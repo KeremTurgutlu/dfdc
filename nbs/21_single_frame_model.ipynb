{
 "cells": [
  {
   "cell_type": "code",
   "execution_count": 1,
   "metadata": {},
   "outputs": [],
   "source": [
    "# default_exp modeling.single_frame_model"
   ]
  },
  {
   "cell_type": "code",
   "execution_count": 2,
   "metadata": {},
   "outputs": [],
   "source": [
    "#export\n",
    "from dfdc.modeling.dataset_utils import *\n",
    "from fastai.vision import *"
   ]
  },
  {
   "cell_type": "code",
   "execution_count": 5,
   "metadata": {},
   "outputs": [
    {
     "data": {
      "text/plain": [
       "[PosixPath('/home/ubuntu/data/dfdc/dfdc_face_detections'),\n",
       " PosixPath('/home/ubuntu/data/dfdc/dfdc_cropped_faces'),\n",
       " PosixPath('/home/ubuntu/data/dfdc/dfdc_training_csv'),\n",
       " PosixPath('/home/ubuntu/data/dfdc/cookies.txt'),\n",
       " PosixPath('/home/ubuntu/data/dfdc/dfdc_train')]"
      ]
     },
     "execution_count": 5,
     "metadata": {},
     "output_type": "execute_result"
    }
   ],
   "source": [
    "data_path = Path(\"/home/ubuntu/data/dfdc\"); data_path.ls()"
   ]
  },
  {
   "cell_type": "code",
   "execution_count": 6,
   "metadata": {
    "scrolled": true
   },
   "outputs": [
    {
     "name": "stdout",
     "output_type": "stream",
     "text": [
      "/home/ubuntu/data/dfdc/dfdc_cropped_faces\n"
     ]
    }
   ],
   "source": [
    "cropped_path = data_path/'dfdc_cropped_faces'; print(cropped_path)"
   ]
  },
  {
   "cell_type": "code",
   "execution_count": 8,
   "metadata": {},
   "outputs": [
    {
     "name": "stdout",
     "output_type": "stream",
     "text": [
      "/home/ubuntu/data/dfdc/dfdc_training_csv\n"
     ]
    }
   ],
   "source": [
    "training_csv_path = data_path/'dfdc_training_csv'; print(trainind_csv_path)"
   ]
  },
  {
   "cell_type": "code",
   "execution_count": 18,
   "metadata": {
    "scrolled": true
   },
   "outputs": [],
   "source": [
    "train_parts = list(range(40))\n",
    "valid_parts = list(range(40,45))\n",
    "test_parts = list(range(45,50))"
   ]
  },
  {
   "cell_type": "code",
   "execution_count": 19,
   "metadata": {},
   "outputs": [
    {
     "data": {
      "text/plain": [
       "(40, 5, 5)"
      ]
     },
     "execution_count": 19,
     "metadata": {},
     "output_type": "execute_result"
    }
   ],
   "source": [
    "len(train_parts), len(test_parts), len(test_parts)"
   ]
  },
  {
   "cell_type": "code",
   "execution_count": 46,
   "metadata": {},
   "outputs": [],
   "source": [
    "def read_train_csv(fname):\n",
    "    df = pd.read_csv(fname, usecols=['fname', 'label', 'original', 'source', 'face_crop_fnames'])\n",
    "    df['face_crop_fnames'] = df['face_crop_fnames'].apply(eval)\n",
    "    return df"
   ]
  },
  {
   "cell_type": "code",
   "execution_count": 47,
   "metadata": {
    "scrolled": true
   },
   "outputs": [],
   "source": [
    "train_dfs = [read_train_csv(trainind_csv_path/f'part_{part_no}_training.csv') for part_no in train_parts]\n",
    "valid_dfs = [read_train_csv(trainind_csv_path/f'part_{part_no}_training.csv' )for part_no in valid_parts]\n",
    "test_dfs = [read_train_csv(trainind_csv_path/f'part_{part_no}_training.csv') for part_no in test_parts]"
   ]
  },
  {
   "cell_type": "code",
   "execution_count": 48,
   "metadata": {},
   "outputs": [],
   "source": [
    "train_df = pd.concat(train_dfs).reset_index(drop=True)\n",
    "valid_df = pd.concat(valid_dfs).reset_index(drop=True)\n",
    "test_df = pd.concat(test_dfs).reset_index(drop=True)"
   ]
  },
  {
   "cell_type": "code",
   "execution_count": 49,
   "metadata": {},
   "outputs": [
    {
     "data": {
      "text/plain": [
       "((92724, 5), (12111, 5), (12367, 5))"
      ]
     },
     "execution_count": 49,
     "metadata": {},
     "output_type": "execute_result"
    }
   ],
   "source": [
    "train_df.shape, valid_df.shape, test_df.shape"
   ]
  },
  {
   "cell_type": "code",
   "execution_count": 71,
   "metadata": {},
   "outputs": [
    {
     "data": {
      "text/html": [
       "<div>\n",
       "<style scoped>\n",
       "    .dataframe tbody tr th:only-of-type {\n",
       "        vertical-align: middle;\n",
       "    }\n",
       "\n",
       "    .dataframe tbody tr th {\n",
       "        vertical-align: top;\n",
       "    }\n",
       "\n",
       "    .dataframe thead th {\n",
       "        text-align: right;\n",
       "    }\n",
       "</style>\n",
       "<table border=\"1\" class=\"dataframe\">\n",
       "  <thead>\n",
       "    <tr style=\"text-align: right;\">\n",
       "      <th></th>\n",
       "      <th>fname</th>\n",
       "      <th>label</th>\n",
       "      <th>original</th>\n",
       "      <th>source</th>\n",
       "      <th>face_crop_fnames</th>\n",
       "    </tr>\n",
       "  </thead>\n",
       "  <tbody>\n",
       "    <tr>\n",
       "      <th>0</th>\n",
       "      <td>owxbbpjpch.mp4</td>\n",
       "      <td>FAKE</td>\n",
       "      <td>wynotylpnm.mp4</td>\n",
       "      <td>wynotylpnm.mp4</td>\n",
       "      <td>[dfdc_train_part_0/owxbbpjpch/frame_1_30.jpg, ...</td>\n",
       "    </tr>\n",
       "    <tr>\n",
       "      <th>1</th>\n",
       "      <td>bpguesjrfa.mp4</td>\n",
       "      <td>FAKE</td>\n",
       "      <td>wynotylpnm.mp4</td>\n",
       "      <td>wynotylpnm.mp4</td>\n",
       "      <td>[dfdc_train_part_0/bpguesjrfa/frame_1_30.jpg, ...</td>\n",
       "    </tr>\n",
       "    <tr>\n",
       "      <th>2</th>\n",
       "      <td>skewcclbhg.mp4</td>\n",
       "      <td>FAKE</td>\n",
       "      <td>wynotylpnm.mp4</td>\n",
       "      <td>wynotylpnm.mp4</td>\n",
       "      <td>[dfdc_train_part_0/skewcclbhg/frame_1_30.jpg, ...</td>\n",
       "    </tr>\n",
       "    <tr>\n",
       "      <th>3</th>\n",
       "      <td>ybdtkypwez.mp4</td>\n",
       "      <td>FAKE</td>\n",
       "      <td>wynotylpnm.mp4</td>\n",
       "      <td>wynotylpnm.mp4</td>\n",
       "      <td>[dfdc_train_part_0/ybdtkypwez/frame_1_30.jpg, ...</td>\n",
       "    </tr>\n",
       "  </tbody>\n",
       "</table>\n",
       "</div>"
      ],
      "text/plain": [
       "            fname label        original          source  \\\n",
       "0  owxbbpjpch.mp4  FAKE  wynotylpnm.mp4  wynotylpnm.mp4   \n",
       "1  bpguesjrfa.mp4  FAKE  wynotylpnm.mp4  wynotylpnm.mp4   \n",
       "2  skewcclbhg.mp4  FAKE  wynotylpnm.mp4  wynotylpnm.mp4   \n",
       "3  ybdtkypwez.mp4  FAKE  wynotylpnm.mp4  wynotylpnm.mp4   \n",
       "\n",
       "                                    face_crop_fnames  \n",
       "0  [dfdc_train_part_0/owxbbpjpch/frame_1_30.jpg, ...  \n",
       "1  [dfdc_train_part_0/bpguesjrfa/frame_1_30.jpg, ...  \n",
       "2  [dfdc_train_part_0/skewcclbhg/frame_1_30.jpg, ...  \n",
       "3  [dfdc_train_part_0/ybdtkypwez/frame_1_30.jpg, ...  "
      ]
     },
     "execution_count": 71,
     "metadata": {},
     "output_type": "execute_result"
    }
   ],
   "source": [
    "train_df.head(4)"
   ]
  },
  {
   "cell_type": "code",
   "execution_count": 51,
   "metadata": {
    "scrolled": true
   },
   "outputs": [
    {
     "data": {
      "text/plain": [
       "['dfdc_train_part_0/owxbbpjpch/frame_1_30.jpg',\n",
       " 'dfdc_train_part_0/owxbbpjpch/frame_2_30.jpg',\n",
       " 'dfdc_train_part_0/owxbbpjpch/frame_3_30.jpg',\n",
       " 'dfdc_train_part_0/owxbbpjpch/frame_4_30.jpg',\n",
       " 'dfdc_train_part_0/owxbbpjpch/frame_5_30.jpg',\n",
       " 'dfdc_train_part_0/owxbbpjpch/frame_6_30.jpg',\n",
       " 'dfdc_train_part_0/owxbbpjpch/frame_7_30.jpg',\n",
       " 'dfdc_train_part_0/owxbbpjpch/frame_8_30.jpg',\n",
       " 'dfdc_train_part_0/owxbbpjpch/frame_9_30.jpg',\n",
       " 'dfdc_train_part_0/owxbbpjpch/frame_10_30.jpg',\n",
       " 'dfdc_train_part_0/owxbbpjpch/frame_11_30.jpg',\n",
       " 'dfdc_train_part_0/owxbbpjpch/frame_12_30.jpg',\n",
       " 'dfdc_train_part_0/owxbbpjpch/frame_13_30.jpg',\n",
       " 'dfdc_train_part_0/owxbbpjpch/frame_14_30.jpg',\n",
       " 'dfdc_train_part_0/owxbbpjpch/frame_15_30.jpg',\n",
       " 'dfdc_train_part_0/owxbbpjpch/frame_16_30.jpg',\n",
       " 'dfdc_train_part_0/owxbbpjpch/frame_17_30.jpg',\n",
       " 'dfdc_train_part_0/owxbbpjpch/frame_18_30.jpg',\n",
       " 'dfdc_train_part_0/owxbbpjpch/frame_19_30.jpg',\n",
       " 'dfdc_train_part_0/owxbbpjpch/frame_20_30.jpg',\n",
       " 'dfdc_train_part_0/owxbbpjpch/frame_21_30.jpg',\n",
       " 'dfdc_train_part_0/owxbbpjpch/frame_22_30.jpg',\n",
       " 'dfdc_train_part_0/owxbbpjpch/frame_23_30.jpg',\n",
       " 'dfdc_train_part_0/owxbbpjpch/frame_24_30.jpg',\n",
       " 'dfdc_train_part_0/owxbbpjpch/frame_25_30.jpg',\n",
       " 'dfdc_train_part_0/owxbbpjpch/frame_26_30.jpg',\n",
       " 'dfdc_train_part_0/owxbbpjpch/frame_27_30.jpg',\n",
       " 'dfdc_train_part_0/owxbbpjpch/frame_28_30.jpg',\n",
       " 'dfdc_train_part_0/owxbbpjpch/frame_29_30.jpg',\n",
       " 'dfdc_train_part_0/owxbbpjpch/frame_30_30.jpg']"
      ]
     },
     "execution_count": 51,
     "metadata": {},
     "output_type": "execute_result"
    }
   ],
   "source": [
    "train_df['face_crop_fnames'][0]"
   ]
  },
  {
   "cell_type": "markdown",
   "metadata": {},
   "source": [
    "### Single Frame Batch Sampler\n",
    "\n",
    "- Permutate original videos\n",
    "- Pick a random fake for each original video\n",
    "- Pick same random single frame for both original video and selected fake \n",
    "- Original and it's fake should be in same batch - Consistency Loss for focusing on alteration areas"
   ]
  },
  {
   "cell_type": "code",
   "execution_count": 56,
   "metadata": {},
   "outputs": [
    {
     "data": {
      "text/plain": [
       "14634"
      ]
     },
     "execution_count": 56,
     "metadata": {},
     "output_type": "execute_result"
    }
   ],
   "source": [
    "unique_originals = np.unique((train_df.original).dropna()); len(unique_originals)"
   ]
  },
  {
   "cell_type": "code",
   "execution_count": 82,
   "metadata": {},
   "outputs": [],
   "source": [
    "fname2idx = {k:v for v,k in enumerate(train_df['fname'])} # get indexes for batch yield"
   ]
  },
  {
   "cell_type": "code",
   "execution_count": 66,
   "metadata": {},
   "outputs": [],
   "source": [
    "source2fakes = defaultdict(list)\n",
    "for _, row in train_df.iterrows():\n",
    "    if row['source'] != row['fname']:\n",
    "        source2fakes[row['source']].append(row['fname'])"
   ]
  },
  {
   "cell_type": "code",
   "execution_count": 70,
   "metadata": {},
   "outputs": [],
   "source": [
    "for k,v in source2fakes.items(): assert len(v) > 0 # each original should have at least 1 fake"
   ]
  },
  {
   "cell_type": "code",
   "execution_count": 63,
   "metadata": {},
   "outputs": [],
   "source": [
    "unique_originals = np.random.permutation(unique_originals) # shuffle original videos"
   ]
  },
  {
   "cell_type": "code",
   "execution_count": 98,
   "metadata": {},
   "outputs": [],
   "source": [
    "# collect indexes for source and fake\n",
    "all_idxs = []\n",
    "for source in unique_originals: \n",
    "    fake = np.random.choice(source2fakes[source])\n",
    "    all_idxs.append((fname2idx[source], fname2idx[fake]))"
   ]
  },
  {
   "cell_type": "code",
   "execution_count": 101,
   "metadata": {},
   "outputs": [],
   "source": [
    "face_crop_fnames = train_df['face_crop_fnames'].values"
   ]
  },
  {
   "cell_type": "code",
   "execution_count": 137,
   "metadata": {},
   "outputs": [],
   "source": [
    "for (source_idx, fake_idx) in all_idxs: pass"
   ]
  },
  {
   "cell_type": "code",
   "execution_count": 138,
   "metadata": {},
   "outputs": [
    {
     "data": {
      "text/plain": [
       "(91253, 91256)"
      ]
     },
     "execution_count": 138,
     "metadata": {},
     "output_type": "execute_result"
    }
   ],
   "source": [
    "source_idx, fake_idx"
   ]
  },
  {
   "cell_type": "code",
   "execution_count": 139,
   "metadata": {
    "scrolled": true
   },
   "outputs": [],
   "source": [
    "assert len(face_crop_fnames[source_idx]) == len(face_crop_fnames[fake_idx])"
   ]
  },
  {
   "cell_type": "code",
   "execution_count": 140,
   "metadata": {},
   "outputs": [],
   "source": [
    "rand_crop_idx = np.random.choice(range(len(face_crop_fnames[source_idx])))"
   ]
  },
  {
   "cell_type": "code",
   "execution_count": 141,
   "metadata": {},
   "outputs": [
    {
     "data": {
      "text/plain": [
       "15"
      ]
     },
     "execution_count": 141,
     "metadata": {},
     "output_type": "execute_result"
    }
   ],
   "source": [
    "rand_crop_idx"
   ]
  },
  {
   "cell_type": "code",
   "execution_count": 142,
   "metadata": {},
   "outputs": [],
   "source": [
    "source_crop_fname = face_crop_fnames[source_idx][rand_crop_idx]\n",
    "fake_crop_fname = face_crop_fnames[fake_idx][rand_crop_idx]"
   ]
  },
  {
   "cell_type": "code",
   "execution_count": 145,
   "metadata": {},
   "outputs": [
    {
     "data": {
      "text/plain": [
       "('dfdc_train_part_39/xcdkppxfby/frame_16_30.jpg',\n",
       " 'dfdc_train_part_39/xiwycfcnhi/frame_16_30.jpg')"
      ]
     },
     "execution_count": 145,
     "metadata": {},
     "output_type": "execute_result"
    }
   ],
   "source": [
    "source_crop_fname, fake_crop_fname"
   ]
  },
  {
   "cell_type": "code",
   "execution_count": 151,
   "metadata": {},
   "outputs": [],
   "source": [
    "class SingleFrameRealFakeSampler(Sampler):\n",
    "    \n",
    "    def __init__(self, train_df):\n",
    "        \n",
    "        self.train_df = train_df\n",
    "        self.unique_originals = np.unique((self.train_df.original).dropna())\n",
    "        \n",
    "        # get fname indexes for sampling\n",
    "        fname2idx = {k:v for v,k in enumerate(self.train_df['fname'])} \n",
    "        \n",
    "        # get source 2 fake mapping \n",
    "        self.source2fakes = defaultdict(list)\n",
    "        for _, row in train_df.iterrows():\n",
    "            if row['source'] != row['fname']:\n",
    "                self.source2fakes[row['source']].append(row['fname'])\n",
    "        \n",
    "        # each original should have at least 1 fake\n",
    "        for k,v in self.source2fakes.items(): assert len(v) > 0\n",
    "        \n",
    "        # convert face crop fnames to array\n",
    "        self.face_crop_fnames = self.train_df['face_crop_fnames'].values\n",
    "        \n",
    "        \n",
    "    def __iter__(self):\n",
    "        # shuffle original videos\n",
    "        unique_originals = np.random.permutation(self.unique_originals)\n",
    "        \n",
    "        # collect indexes for source and fake\n",
    "        all_idxs = []\n",
    "        for source in unique_originals: \n",
    "            fake = np.random.choice(source2fakes[source])\n",
    "            source_fname_idx = fname2idx[source]\n",
    "            fake_fname_idx = fname2idx[fake]\n",
    "            \n",
    "            # pick a random frame for real and fake\n",
    "            rand_crop_idx = np.random.choice(range(len(self.face_crop_fnames[source_fname_idx])))\n",
    "            \n",
    "            # real video, fake video, random frame\n",
    "            all_idxs.append((source_fname_idx, fake_fname_idx, rand_crop_idx))\n",
    "        \n",
    "        return iter(all_idxs)\n",
    "    \n",
    "    def __len__(self):\n",
    "        return len(self.unique_originals)*2"
   ]
  },
  {
   "cell_type": "code",
   "execution_count": 226,
   "metadata": {},
   "outputs": [],
   "source": [
    "class SingleFrameRealFakeBatchSampler(Sampler):\n",
    "\n",
    "    def __init__(self, sampler, batch_size, drop_last):\n",
    "        self.sampler = sampler\n",
    "        self.batch_size = batch_size\n",
    "        self.drop_last = drop_last\n",
    "\n",
    "    def __iter__(self):\n",
    "        batch = []\n",
    "        for real_idx, fake_idx, crop_idx in self.sampler:\n",
    "            batch.append((real_idx, crop_idx))\n",
    "            batch.append((fake_idx, crop_idx))\n",
    "            if len(batch) == self.batch_size:\n",
    "                yield batch\n",
    "                batch = []\n",
    "        if len(batch) > 0 and not self.drop_last:\n",
    "            yield batch\n",
    "\n",
    "    def __len__(self):\n",
    "        if self.drop_last:\n",
    "            return len(self.sampler) // self.batch_size\n",
    "        else:\n",
    "            return (len(self.sampler) + self.batch_size - 1) // self.batch_size"
   ]
  },
  {
   "cell_type": "code",
   "execution_count": 321,
   "metadata": {},
   "outputs": [],
   "source": [
    "#export\n",
    "class SingleFrameRealFakeDataset(Dataset):\n",
    "    def __init__(self, cropped_path, df, sampler):\n",
    "        self.sampler = sampler\n",
    "        self.cropped_path = cropped_path\n",
    "        self.df = df\n",
    "        self.face_crop_fnames = df['face_crop_fnames'].values\n",
    "        self.labels = df['label'].map({\"REAL\":0, \"FAKE\":1}).values\n",
    "        \n",
    "    def __getitem__(self, idxs:Tuple):\n",
    "        fname_idx, crop_idx = idxs\n",
    "        crop_fname = self.face_crop_fnames[fname_idx][crop_idx]\n",
    "        img = open_image(cropped_path/crop_fname).resize(224).data \n",
    "        img = normalize(img, *[tensor(o) for o in imagenet_stats])\n",
    "        label = self.labels[fname_idx]\n",
    "        return img, label\n",
    "    \n",
    "    def __len__(self): return len(self.sampler)"
   ]
  },
  {
   "cell_type": "code",
   "execution_count": 322,
   "metadata": {},
   "outputs": [],
   "source": [
    "class SingleFrameValidSampler(Sampler):\n",
    "    def __init__(self, valid_df):\n",
    "        valid_idxs = []\n",
    "        valid_face_crop_fnames = valid_df.face_crop_fnames.values\n",
    "        for i, l in enumerate(valid_face_crop_fnames):\n",
    "            j = np.random.choice(range(len(l)))\n",
    "            valid_idxs.append((i,j))\n",
    "        self.valid_idxs = valid_idxs\n",
    "        \n",
    "    def __iter__(self): return iter(self.valid_idxs)\n",
    "    def __len__(self): return len(self.valid_idxs)"
   ]
  },
  {
   "cell_type": "code",
   "execution_count": null,
   "metadata": {},
   "outputs": [],
   "source": [
    "sampler = SingleFrameRealFakeSampler(train_df)\n",
    "batch_sampler = SingleFrameRealFakeBatchSampler(sampler, 128, False)"
   ]
  },
  {
   "cell_type": "code",
   "execution_count": 324,
   "metadata": {},
   "outputs": [],
   "source": [
    "train_ds = SingleFrameRealFakeDataset(cropped_path, train_df, sampler)\n",
    "train_dl = DataLoader(train_ds, batch_sampler=batch_sampler, num_workers=defaults.cpus)"
   ]
  },
  {
   "cell_type": "code",
   "execution_count": 325,
   "metadata": {},
   "outputs": [],
   "source": [
    "sampler = SingleFrameValidSampler(valid_df)\n",
    "valid_ds = SingleFrameRealFakeDataset(cropped_path, valid_df, sampler)\n",
    "valid_dl = DataLoader(valid_ds, 128, sampler=sampler, num_workers=defaults.cpus)"
   ]
  },
  {
   "cell_type": "markdown",
   "metadata": {},
   "source": [
    "### transfer learning"
   ]
  },
  {
   "cell_type": "code",
   "execution_count": 326,
   "metadata": {},
   "outputs": [],
   "source": [
    "data = DataBunch(train_dl, valid_dl); data.c = 2"
   ]
  },
  {
   "cell_type": "code",
   "execution_count": 327,
   "metadata": {},
   "outputs": [],
   "source": [
    "learner = cnn_learner(data, models.resnet34)"
   ]
  },
  {
   "cell_type": "code",
   "execution_count": 328,
   "metadata": {},
   "outputs": [],
   "source": [
    "learner.loss_func = CrossEntropyFlat()"
   ]
  },
  {
   "cell_type": "code",
   "execution_count": 329,
   "metadata": {},
   "outputs": [
    {
     "data": {
      "text/html": [
       "\n",
       "    <div>\n",
       "        <style>\n",
       "            /* Turns off some styling */\n",
       "            progress {\n",
       "                /* gets rid of default border in Firefox and Opera. */\n",
       "                border: none;\n",
       "                /* Needs to be in here for Safari polyfill so background images work as expected. */\n",
       "                background-size: auto;\n",
       "            }\n",
       "            .progress-bar-interrupted, .progress-bar-interrupted::-webkit-progress-bar {\n",
       "                background: #F44336;\n",
       "            }\n",
       "        </style>\n",
       "      <progress value='0' class='' max='1', style='width:300px; height:20px; vertical-align: middle;'></progress>\n",
       "      0.00% [0/1 00:00<00:00]\n",
       "    </div>\n",
       "    \n",
       "<table border=\"1\" class=\"dataframe\">\n",
       "  <thead>\n",
       "    <tr style=\"text-align: left;\">\n",
       "      <th>epoch</th>\n",
       "      <th>train_loss</th>\n",
       "      <th>valid_loss</th>\n",
       "      <th>time</th>\n",
       "    </tr>\n",
       "  </thead>\n",
       "  <tbody>\n",
       "  </tbody>\n",
       "</table><p>\n",
       "\n",
       "    <div>\n",
       "        <style>\n",
       "            /* Turns off some styling */\n",
       "            progress {\n",
       "                /* gets rid of default border in Firefox and Opera. */\n",
       "                border: none;\n",
       "                /* Needs to be in here for Safari polyfill so background images work as expected. */\n",
       "                background-size: auto;\n",
       "            }\n",
       "            .progress-bar-interrupted, .progress-bar-interrupted::-webkit-progress-bar {\n",
       "                background: #F44336;\n",
       "            }\n",
       "        </style>\n",
       "      <progress value='90' class='' max='229', style='width:300px; height:20px; vertical-align: middle;'></progress>\n",
       "      39.30% [90/229 00:15<00:23 4.4172]\n",
       "    </div>\n",
       "    "
      ],
      "text/plain": [
       "<IPython.core.display.HTML object>"
      ]
     },
     "metadata": {},
     "output_type": "display_data"
    },
    {
     "name": "stdout",
     "output_type": "stream",
     "text": [
      "LR Finder is complete, type {learner_name}.recorder.plot() to see the graph.\n"
     ]
    }
   ],
   "source": [
    "learner.lr_find()"
   ]
  },
  {
   "cell_type": "code",
   "execution_count": 330,
   "metadata": {},
   "outputs": [
    {
     "data": {
      "image/png": "[encoded data removed]",
      "text/plain": [
       "<Figure size 432x288 with 1 Axes>"
      ]
     },
     "metadata": {
      "needs_background": "light"
     },
     "output_type": "display_data"
    }
   ],
   "source": [
    "learner.recorder.plot()"
   ]
  },
  {
   "cell_type": "code",
   "execution_count": null,
   "metadata": {},
   "outputs": [],
   "source": [
    "lr=1e-2\n",
    "learner.fit_one_cycle(100, slice(lr))"
   ]
  },
  {
   "cell_type": "code",
   "execution_count": null,
   "metadata": {},
   "outputs": [],
   "source": [
    "learner.freeze_to(1)\n",
    "learner.fit_one_cycle(100, slice(lr/3))"
   ]
  },
  {
   "cell_type": "code",
   "execution_count": null,
   "metadata": {},
   "outputs": [],
   "source": [
    "learner.unfreeze()\n",
    "learner.fit_one_cycle(100, slice(lr/9))"
   ]
  },
  {
   "cell_type": "code",
   "execution_count": 336,
   "metadata": {
    "scrolled": true
   },
   "outputs": [
    {
     "data": {
      "image/png": "[encoded data removed]",
      "text/plain": [
       "<Figure size 432x288 with 1 Axes>"
      ]
     },
     "metadata": {
      "needs_background": "light"
     },
     "output_type": "display_data"
    }
   ],
   "source": [
    "learner.recorder.plot_losses()"
   ]
  },
  {
   "cell_type": "code",
   "execution_count": 337,
   "metadata": {},
   "outputs": [],
   "source": [
    "learner.save(\"single_frame_model_resnet34\")"
   ]
  },
  {
   "cell_type": "code",
   "execution_count": 338,
   "metadata": {},
   "outputs": [
    {
     "data": {
      "text/html": [],
      "text/plain": [
       "<IPython.core.display.HTML object>"
      ]
     },
     "metadata": {},
     "output_type": "display_data"
    },
    {
     "data": {
      "text/plain": [
       "[0.42703903]"
      ]
     },
     "execution_count": 338,
     "metadata": {},
     "output_type": "execute_result"
    }
   ],
   "source": [
    "learner.validate()"
   ]
  },
  {
   "cell_type": "code",
   "execution_count": 45,
   "metadata": {},
   "outputs": [
    {
     "data": {
      "text/html": [],
      "text/plain": [
       "<IPython.core.display.HTML object>"
      ]
     },
     "metadata": {},
     "output_type": "display_data"
    }
   ],
   "source": [
    "preds = learner.get_preds()"
   ]
  },
  {
   "cell_type": "markdown",
   "metadata": {},
   "source": [
    "### test"
   ]
  },
  {
   "cell_type": "code",
   "execution_count": 341,
   "metadata": {},
   "outputs": [
    {
     "data": {
      "text/html": [
       "<div>\n",
       "<style scoped>\n",
       "    .dataframe tbody tr th:only-of-type {\n",
       "        vertical-align: middle;\n",
       "    }\n",
       "\n",
       "    .dataframe tbody tr th {\n",
       "        vertical-align: top;\n",
       "    }\n",
       "\n",
       "    .dataframe thead th {\n",
       "        text-align: right;\n",
       "    }\n",
       "</style>\n",
       "<table border=\"1\" class=\"dataframe\">\n",
       "  <thead>\n",
       "    <tr style=\"text-align: right;\">\n",
       "      <th></th>\n",
       "      <th>fname</th>\n",
       "      <th>label</th>\n",
       "      <th>original</th>\n",
       "      <th>source</th>\n",
       "      <th>face_crop_fnames</th>\n",
       "    </tr>\n",
       "  </thead>\n",
       "  <tbody>\n",
       "    <tr>\n",
       "      <th>0</th>\n",
       "      <td>gthvvygfcj.mp4</td>\n",
       "      <td>FAKE</td>\n",
       "      <td>lxeqbyddvt.mp4</td>\n",
       "      <td>lxeqbyddvt.mp4</td>\n",
       "      <td>[dfdc_train_part_45/gthvvygfcj/frame_1_30.jpg,...</td>\n",
       "    </tr>\n",
       "    <tr>\n",
       "      <th>1</th>\n",
       "      <td>lxeqbyddvt.mp4</td>\n",
       "      <td>REAL</td>\n",
       "      <td>NaN</td>\n",
       "      <td>lxeqbyddvt.mp4</td>\n",
       "      <td>[dfdc_train_part_45/lxeqbyddvt/frame_1_30.jpg,...</td>\n",
       "    </tr>\n",
       "    <tr>\n",
       "      <th>2</th>\n",
       "      <td>rmgmravhdx.mp4</td>\n",
       "      <td>FAKE</td>\n",
       "      <td>lxeqbyddvt.mp4</td>\n",
       "      <td>lxeqbyddvt.mp4</td>\n",
       "      <td>[dfdc_train_part_45/rmgmravhdx/frame_1_30.jpg,...</td>\n",
       "    </tr>\n",
       "    <tr>\n",
       "      <th>3</th>\n",
       "      <td>rottyedvaw.mp4</td>\n",
       "      <td>FAKE</td>\n",
       "      <td>lxeqbyddvt.mp4</td>\n",
       "      <td>lxeqbyddvt.mp4</td>\n",
       "      <td>[dfdc_train_part_45/rottyedvaw/frame_1_30.jpg,...</td>\n",
       "    </tr>\n",
       "    <tr>\n",
       "      <th>4</th>\n",
       "      <td>ycybtwdpej.mp4</td>\n",
       "      <td>FAKE</td>\n",
       "      <td>lxeqbyddvt.mp4</td>\n",
       "      <td>lxeqbyddvt.mp4</td>\n",
       "      <td>[dfdc_train_part_45/ycybtwdpej/frame_1_30.jpg,...</td>\n",
       "    </tr>\n",
       "  </tbody>\n",
       "</table>\n",
       "</div>"
      ],
      "text/plain": [
       "            fname label        original          source  \\\n",
       "0  gthvvygfcj.mp4  FAKE  lxeqbyddvt.mp4  lxeqbyddvt.mp4   \n",
       "1  lxeqbyddvt.mp4  REAL             NaN  lxeqbyddvt.mp4   \n",
       "2  rmgmravhdx.mp4  FAKE  lxeqbyddvt.mp4  lxeqbyddvt.mp4   \n",
       "3  rottyedvaw.mp4  FAKE  lxeqbyddvt.mp4  lxeqbyddvt.mp4   \n",
       "4  ycybtwdpej.mp4  FAKE  lxeqbyddvt.mp4  lxeqbyddvt.mp4   \n",
       "\n",
       "                                    face_crop_fnames  \n",
       "0  [dfdc_train_part_45/gthvvygfcj/frame_1_30.jpg,...  \n",
       "1  [dfdc_train_part_45/lxeqbyddvt/frame_1_30.jpg,...  \n",
       "2  [dfdc_train_part_45/rmgmravhdx/frame_1_30.jpg,...  \n",
       "3  [dfdc_train_part_45/rottyedvaw/frame_1_30.jpg,...  \n",
       "4  [dfdc_train_part_45/ycybtwdpej/frame_1_30.jpg,...  "
      ]
     },
     "execution_count": 341,
     "metadata": {},
     "output_type": "execute_result"
    }
   ],
   "source": [
    "test_df.head()"
   ]
  },
  {
   "cell_type": "code",
   "execution_count": 347,
   "metadata": {},
   "outputs": [],
   "source": [
    "class SingleFrameTestSampler(Sampler):\n",
    "    def __init__(self, test_df):\n",
    "        self.test_idxs = []\n",
    "        test_face_crop_fnames = test_df.face_crop_fnames.values\n",
    "        for i, l in enumerate(test_face_crop_fnames):\n",
    "            for j in range(len(l)):\n",
    "                self.test_idxs.append((i,j))\n",
    "        \n",
    "    def __iter__(self): return iter(self.test_idxs)\n",
    "    def __len__(self): return len(self.test_idxs)"
   ]
  },
  {
   "cell_type": "code",
   "execution_count": 353,
   "metadata": {},
   "outputs": [],
   "source": [
    "sampler = SingleFrameTestSampler(test_df)\n",
    "test_ds = SingleFrameRealFakeDataset(cropped_path, test_df, sampler)\n",
    "test_dl = DeviceDataLoader(DataLoader(test_ds, 128, sampler=sampler, num_workers=defaults.cpus), device=defaults.device)"
   ]
  },
  {
   "cell_type": "code",
   "execution_count": 354,
   "metadata": {},
   "outputs": [],
   "source": [
    "learner.data.test_dl = test_dl"
   ]
  },
  {
   "cell_type": "code",
   "execution_count": 355,
   "metadata": {},
   "outputs": [
    {
     "data": {
      "text/html": [],
      "text/plain": [
       "<IPython.core.display.HTML object>"
      ]
     },
     "metadata": {},
     "output_type": "display_data"
    }
   ],
   "source": [
    "preds = learner.get_preds(DatasetType.Test)"
   ]
  },
  {
   "cell_type": "code",
   "execution_count": 356,
   "metadata": {},
   "outputs": [
    {
     "data": {
      "text/plain": [
       "2"
      ]
     },
     "execution_count": 356,
     "metadata": {},
     "output_type": "execute_result"
    }
   ],
   "source": [
    "len(preds)"
   ]
  },
  {
   "cell_type": "code",
   "execution_count": 357,
   "metadata": {},
   "outputs": [
    {
     "data": {
      "text/plain": [
       "tensor([[7.2258e-09, 1.0000e+00],\n",
       "        [1.5410e-08, 1.0000e+00],\n",
       "        [1.3646e-08, 1.0000e+00],\n",
       "        ...,\n",
       "        [9.9987e-01, 1.2910e-04],\n",
       "        [9.9996e-01, 3.5398e-05],\n",
       "        [9.9980e-01, 1.9786e-04]])"
      ]
     },
     "execution_count": 357,
     "metadata": {},
     "output_type": "execute_result"
    }
   ],
   "source": [
    "preds[0]"
   ]
  },
  {
   "cell_type": "code",
   "execution_count": 359,
   "metadata": {},
   "outputs": [
    {
     "data": {
      "text/plain": [
       "tensor([1, 1, 1,  ..., 0, 0, 0])"
      ]
     },
     "execution_count": 359,
     "metadata": {},
     "output_type": "execute_result"
    }
   ],
   "source": [
    "preds[1]"
   ]
  },
  {
   "cell_type": "code",
   "execution_count": 360,
   "metadata": {},
   "outputs": [],
   "source": [
    "flat_test_res = []\n",
    "for _, row in test_df.iterrows():\n",
    "    fname = row['fname']\n",
    "    for o in row['face_crop_fnames']:\n",
    "        flat_test_res.append({\"fname\":fname, \"frame_fname\":o})"
   ]
  },
  {
   "cell_type": "code",
   "execution_count": 365,
   "metadata": {},
   "outputs": [],
   "source": [
    "flat_test_df = pd.DataFrame(flat_test_res)"
   ]
  },
  {
   "cell_type": "code",
   "execution_count": 367,
   "metadata": {},
   "outputs": [],
   "source": [
    "flat_test_df['preds'] = to_np(preds[0][:,1])"
   ]
  },
  {
   "cell_type": "code",
   "execution_count": 371,
   "metadata": {},
   "outputs": [],
   "source": [
    "fname2preds = dict(flat_test_df.groupby(\"fname\")['preds'].apply(list))"
   ]
  },
  {
   "cell_type": "code",
   "execution_count": 372,
   "metadata": {},
   "outputs": [],
   "source": [
    "test_df['preds'] = test_df['fname'].map(fname2preds)"
   ]
  },
  {
   "cell_type": "code",
   "execution_count": 377,
   "metadata": {},
   "outputs": [],
   "source": [
    "test_df['mean_preds'] = test_df['preds'].apply(lambda o: np.mean(o))\n",
    "test_df['median_preds'] = test_df['preds'].apply(lambda o: np.median(o))"
   ]
  },
  {
   "cell_type": "code",
   "execution_count": 379,
   "metadata": {},
   "outputs": [
    {
     "data": {
      "text/plain": [
       "<matplotlib.axes._subplots.AxesSubplot at 0x7ff41bfd1f10>"
      ]
     },
     "execution_count": 379,
     "metadata": {},
     "output_type": "execute_result"
    },
    {
     "data": {
      "image/png": "[encoded data removed]",
      "text/plain": [
       "<Figure size 432x288 with 1 Axes>"
      ]
     },
     "metadata": {
      "needs_background": "light"
     },
     "output_type": "display_data"
    }
   ],
   "source": [
    "test_df.mean_preds.hist()"
   ]
  },
  {
   "cell_type": "code",
   "execution_count": 384,
   "metadata": {},
   "outputs": [],
   "source": [
    "test_df['label_idx'] = test_df['label'].map({\"REAL\":0, \"FAKE\":1})"
   ]
  },
  {
   "cell_type": "code",
   "execution_count": 385,
   "metadata": {},
   "outputs": [
    {
     "data": {
      "text/html": [
       "<div>\n",
       "<style scoped>\n",
       "    .dataframe tbody tr th:only-of-type {\n",
       "        vertical-align: middle;\n",
       "    }\n",
       "\n",
       "    .dataframe tbody tr th {\n",
       "        vertical-align: top;\n",
       "    }\n",
       "\n",
       "    .dataframe thead th {\n",
       "        text-align: right;\n",
       "    }\n",
       "</style>\n",
       "<table border=\"1\" class=\"dataframe\">\n",
       "  <thead>\n",
       "    <tr style=\"text-align: right;\">\n",
       "      <th></th>\n",
       "      <th>fname</th>\n",
       "      <th>label</th>\n",
       "      <th>original</th>\n",
       "      <th>source</th>\n",
       "      <th>face_crop_fnames</th>\n",
       "      <th>preds</th>\n",
       "      <th>mean_preds</th>\n",
       "      <th>median_preds</th>\n",
       "      <th>label_idx</th>\n",
       "    </tr>\n",
       "  </thead>\n",
       "  <tbody>\n",
       "    <tr>\n",
       "      <th>0</th>\n",
       "      <td>gthvvygfcj.mp4</td>\n",
       "      <td>FAKE</td>\n",
       "      <td>lxeqbyddvt.mp4</td>\n",
       "      <td>lxeqbyddvt.mp4</td>\n",
       "      <td>[dfdc_train_part_45/gthvvygfcj/frame_1_30.jpg,...</td>\n",
       "      <td>[1.0, 1.0, 1.0, 1.0, 1.0, 1.0, 1.0, 1.0, 1.0, ...</td>\n",
       "      <td>1.000000</td>\n",
       "      <td>1.000000</td>\n",
       "      <td>1</td>\n",
       "    </tr>\n",
       "    <tr>\n",
       "      <th>1</th>\n",
       "      <td>lxeqbyddvt.mp4</td>\n",
       "      <td>REAL</td>\n",
       "      <td>NaN</td>\n",
       "      <td>lxeqbyddvt.mp4</td>\n",
       "      <td>[dfdc_train_part_45/lxeqbyddvt/frame_1_30.jpg,...</td>\n",
       "      <td>[0.00022220885148271918, 0.0010630048345774412...</td>\n",
       "      <td>0.011671</td>\n",
       "      <td>0.000573</td>\n",
       "      <td>0</td>\n",
       "    </tr>\n",
       "    <tr>\n",
       "      <th>2</th>\n",
       "      <td>rmgmravhdx.mp4</td>\n",
       "      <td>FAKE</td>\n",
       "      <td>lxeqbyddvt.mp4</td>\n",
       "      <td>lxeqbyddvt.mp4</td>\n",
       "      <td>[dfdc_train_part_45/rmgmravhdx/frame_1_30.jpg,...</td>\n",
       "      <td>[1.0, 1.0, 1.0, 1.0, 1.0, 0.9999998807907104, ...</td>\n",
       "      <td>1.000000</td>\n",
       "      <td>1.000000</td>\n",
       "      <td>1</td>\n",
       "    </tr>\n",
       "    <tr>\n",
       "      <th>3</th>\n",
       "      <td>rottyedvaw.mp4</td>\n",
       "      <td>FAKE</td>\n",
       "      <td>lxeqbyddvt.mp4</td>\n",
       "      <td>lxeqbyddvt.mp4</td>\n",
       "      <td>[dfdc_train_part_45/rottyedvaw/frame_1_30.jpg,...</td>\n",
       "      <td>[0.9999896287918091, 0.9999840259552002, 0.999...</td>\n",
       "      <td>0.999698</td>\n",
       "      <td>0.999994</td>\n",
       "      <td>1</td>\n",
       "    </tr>\n",
       "    <tr>\n",
       "      <th>4</th>\n",
       "      <td>ycybtwdpej.mp4</td>\n",
       "      <td>FAKE</td>\n",
       "      <td>lxeqbyddvt.mp4</td>\n",
       "      <td>lxeqbyddvt.mp4</td>\n",
       "      <td>[dfdc_train_part_45/ycybtwdpej/frame_1_30.jpg,...</td>\n",
       "      <td>[1.0, 1.0, 1.0, 1.0, 1.0, 0.9999990463256836, ...</td>\n",
       "      <td>0.999997</td>\n",
       "      <td>1.000000</td>\n",
       "      <td>1</td>\n",
       "    </tr>\n",
       "  </tbody>\n",
       "</table>\n",
       "</div>"
      ],
      "text/plain": [
       "            fname label        original          source  \\\n",
       "0  gthvvygfcj.mp4  FAKE  lxeqbyddvt.mp4  lxeqbyddvt.mp4   \n",
       "1  lxeqbyddvt.mp4  REAL             NaN  lxeqbyddvt.mp4   \n",
       "2  rmgmravhdx.mp4  FAKE  lxeqbyddvt.mp4  lxeqbyddvt.mp4   \n",
       "3  rottyedvaw.mp4  FAKE  lxeqbyddvt.mp4  lxeqbyddvt.mp4   \n",
       "4  ycybtwdpej.mp4  FAKE  lxeqbyddvt.mp4  lxeqbyddvt.mp4   \n",
       "\n",
       "                                    face_crop_fnames  \\\n",
       "0  [dfdc_train_part_45/gthvvygfcj/frame_1_30.jpg,...   \n",
       "1  [dfdc_train_part_45/lxeqbyddvt/frame_1_30.jpg,...   \n",
       "2  [dfdc_train_part_45/rmgmravhdx/frame_1_30.jpg,...   \n",
       "3  [dfdc_train_part_45/rottyedvaw/frame_1_30.jpg,...   \n",
       "4  [dfdc_train_part_45/ycybtwdpej/frame_1_30.jpg,...   \n",
       "\n",
       "                                               preds  mean_preds  \\\n",
       "0  [1.0, 1.0, 1.0, 1.0, 1.0, 1.0, 1.0, 1.0, 1.0, ...    1.000000   \n",
       "1  [0.00022220885148271918, 0.0010630048345774412...    0.011671   \n",
       "2  [1.0, 1.0, 1.0, 1.0, 1.0, 0.9999998807907104, ...    1.000000   \n",
       "3  [0.9999896287918091, 0.9999840259552002, 0.999...    0.999698   \n",
       "4  [1.0, 1.0, 1.0, 1.0, 1.0, 0.9999990463256836, ...    0.999997   \n",
       "\n",
       "   median_preds  label_idx  \n",
       "0      1.000000          1  \n",
       "1      0.000573          0  \n",
       "2      1.000000          1  \n",
       "3      0.999994          1  \n",
       "4      1.000000          1  "
      ]
     },
     "execution_count": 385,
     "metadata": {},
     "output_type": "execute_result"
    }
   ],
   "source": [
    "test_df.head()"
   ]
  },
  {
   "cell_type": "code",
   "execution_count": 393,
   "metadata": {},
   "outputs": [
    {
     "data": {
      "text/plain": [
       "0.19797126161051878"
      ]
     },
     "execution_count": 393,
     "metadata": {},
     "output_type": "execute_result"
    }
   ],
   "source": [
    "# mean log loss\n",
    "-np.mean(np.log(test_df['label_idx']*test_df['mean_preds'] + \n",
    "                (1 - test_df['label_idx'])*(1 - test_df['mean_preds'])))"
   ]
  },
  {
   "cell_type": "code",
   "execution_count": 402,
   "metadata": {},
   "outputs": [
    {
     "data": {
      "text/plain": [
       "0.2965859887731472"
      ]
     },
     "execution_count": 402,
     "metadata": {},
     "output_type": "execute_result"
    }
   ],
   "source": [
    "# median log loss\n",
    "-np.mean(np.log(test_df['label_idx']*test_df['median_preds'] + \n",
    "                (1 - test_df['label_idx'])*(1 - test_df['median_preds'])))"
   ]
  },
  {
   "cell_type": "code",
   "execution_count": 405,
   "metadata": {},
   "outputs": [
    {
     "data": {
      "text/plain": [
       "0.9321581628527533"
      ]
     },
     "execution_count": 405,
     "metadata": {},
     "output_type": "execute_result"
    }
   ],
   "source": [
    "# mean accuracy\n",
    "np.mean(test_df['label_idx'] == (test_df['mean_preds'] > 0.5))"
   ]
  },
  {
   "cell_type": "code",
   "execution_count": 407,
   "metadata": {},
   "outputs": [
    {
     "data": {
      "text/plain": [
       "0.9305409557693862"
      ]
     },
     "execution_count": 407,
     "metadata": {},
     "output_type": "execute_result"
    }
   ],
   "source": [
    "# median accuracy\n",
    "np.mean(test_df['label_idx'] == (test_df['median_preds'] > 0.5))"
   ]
  },
  {
   "cell_type": "code",
   "execution_count": 400,
   "metadata": {},
   "outputs": [],
   "source": [
    "from IPython.display import FileLink"
   ]
  },
  {
   "cell_type": "code",
   "execution_count": 401,
   "metadata": {},
   "outputs": [
    {
     "data": {
      "text/html": [
       "<a href='models/single_frame_model_resnet34.pth' target='_blank'>models/single_frame_model_resnet34.pth</a><br>"
      ],
      "text/plain": [
       "/home/ubuntu/git/dfdc/nbs/models/single_frame_model_resnet34.pth"
      ]
     },
     "execution_count": 401,
     "metadata": {},
     "output_type": "execute_result"
    }
   ],
   "source": [
    "FileLink(learner.data.path/learner.model_dir/'single_frame_model_resnet34.pth')"
   ]
  },
  {
   "cell_type": "markdown",
   "metadata": {},
   "source": [
    "### export "
   ]
  },
  {
   "cell_type": "code",
   "execution_count": 26,
   "metadata": {},
   "outputs": [],
   "source": [
    "from nbdev.export import notebook2script"
   ]
  },
  {
   "cell_type": "code",
   "execution_count": 27,
   "metadata": {
    "scrolled": true
   },
   "outputs": [
    {
     "name": "stdout",
     "output_type": "stream",
     "text": [
      "Converted 001 - extract_faces.ipynb.\n",
      "Converted 002 - face_detection_retinaface.ipynb.\n",
      "Converted 003 - save_face_crops.ipynb.\n",
      "Converted 004 - tl_baseline.ipynb.\n",
      "Converted 00_core.ipynb.\n",
      "Converted 01_video_core.ipynb.\n",
      "Converted 10_bbox_utils.ipynb.\n",
      "Converted 11_retinaface_detection.ipynb.\n",
      "Converted 12_generate_face_detections.ipynb.\n",
      "Converted 13_save_cropped_faces.ipynb.\n",
      "Converted 20_datasets.ipynb.\n",
      "Converted 21_single_frame_model.ipynb.\n",
      "Converted index.ipynb.\n"
     ]
    }
   ],
   "source": [
    "notebook2script()"
   ]
  },
  {
   "cell_type": "code",
   "execution_count": null,
   "metadata": {},
   "outputs": [],
   "source": []
  },
  {
   "cell_type": "code",
   "execution_count": null,
   "metadata": {},
   "outputs": [],
   "source": []
  }
 ],
 "metadata": {
  "kernelspec": {
   "display_name": "Python [conda env:deepfake]",
   "language": "python",
   "name": "conda-env-deepfake-py"
  },
  "language_info": {
   "codemirror_mode": {
    "name": "ipython",
    "version": 3
   },
   "file_extension": ".py",
   "mimetype": "text/x-python",
   "name": "python",
   "nbconvert_exporter": "python",
   "pygments_lexer": "ipython3",
   "version": "3.7.6"
  }
 },
 "nbformat": 4,
 "nbformat_minor": 2
}
