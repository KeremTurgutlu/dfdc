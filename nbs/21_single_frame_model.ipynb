{
 "cells": [
  {
   "cell_type": "code",
   "execution_count": 1,
   "metadata": {},
   "outputs": [],
   "source": [
    "# default_exp modeling.single_frame_model"
   ]
  },
  {
   "cell_type": "code",
   "execution_count": 48,
   "metadata": {},
   "outputs": [],
   "source": [
    "#export\n",
    "from dfdc.modeling.dataset_utils import *\n",
    "from fastai.vision import *"
   ]
  },
  {
   "cell_type": "code",
   "execution_count": 3,
   "metadata": {
    "scrolled": true
   },
   "outputs": [
    {
     "name": "stdout",
     "output_type": "stream",
     "text": [
      "/home/ubuntu/data/dfdc\n",
      "/home/ubuntu/data/dfdc/dfdc_train\n"
     ]
    }
   ],
   "source": [
    "data_path = Path(\"/home/ubuntu/data/dfdc\"); print(data_path)\n",
    "video_path = data_path/'dfdc_train'; print(video_path)"
   ]
  },
  {
   "cell_type": "code",
   "execution_count": 4,
   "metadata": {},
   "outputs": [],
   "source": [
    "train_df = create_frame_label_df(data_path, video_path, 49)\n",
    "valid_df = create_frame_label_df(data_path, video_path, 48)"
   ]
  },
  {
   "cell_type": "code",
   "execution_count": 5,
   "metadata": {},
   "outputs": [
    {
     "data": {
      "text/plain": [
       "((3121, 3), (2450, 3))"
      ]
     },
     "execution_count": 5,
     "metadata": {},
     "output_type": "execute_result"
    }
   ],
   "source": [
    "train_df.shape, valid_df.shape"
   ]
  },
  {
   "cell_type": "code",
   "execution_count": 6,
   "metadata": {},
   "outputs": [
    {
     "data": {
      "text/plain": [
       "(0.8349887856456264, 0.8277551020408164)"
      ]
     },
     "execution_count": 6,
     "metadata": {},
     "output_type": "execute_result"
    }
   ],
   "source": [
    "train_df.label.mean(), valid_df.label.mean()"
   ]
  },
  {
   "cell_type": "code",
   "execution_count": 7,
   "metadata": {},
   "outputs": [
    {
     "data": {
      "text/html": [
       "<div>\n",
       "<style scoped>\n",
       "    .dataframe tbody tr th:only-of-type {\n",
       "        vertical-align: middle;\n",
       "    }\n",
       "\n",
       "    .dataframe tbody tr th {\n",
       "        vertical-align: top;\n",
       "    }\n",
       "\n",
       "    .dataframe thead th {\n",
       "        text-align: right;\n",
       "    }\n",
       "</style>\n",
       "<table border=\"1\" class=\"dataframe\">\n",
       "  <thead>\n",
       "    <tr style=\"text-align: right;\">\n",
       "      <th></th>\n",
       "      <th>video_fname</th>\n",
       "      <th>frame_fnames</th>\n",
       "      <th>label</th>\n",
       "    </tr>\n",
       "  </thead>\n",
       "  <tbody>\n",
       "    <tr>\n",
       "      <th>0</th>\n",
       "      <td>gdnbcgtfay</td>\n",
       "      <td>[/home/ubuntu/data/dfdc/dfdc_cropped_faces/dfd...</td>\n",
       "      <td>1</td>\n",
       "    </tr>\n",
       "    <tr>\n",
       "      <th>1</th>\n",
       "      <td>klavqvgpye</td>\n",
       "      <td>[/home/ubuntu/data/dfdc/dfdc_cropped_faces/dfd...</td>\n",
       "      <td>1</td>\n",
       "    </tr>\n",
       "  </tbody>\n",
       "</table>\n",
       "</div>"
      ],
      "text/plain": [
       "  video_fname                                       frame_fnames  label\n",
       "0  gdnbcgtfay  [/home/ubuntu/data/dfdc/dfdc_cropped_faces/dfd...      1\n",
       "1  klavqvgpye  [/home/ubuntu/data/dfdc/dfdc_cropped_faces/dfd...      1"
      ]
     },
     "execution_count": 7,
     "metadata": {},
     "output_type": "execute_result"
    }
   ],
   "source": [
    "train_df.head(2)"
   ]
  },
  {
   "cell_type": "code",
   "execution_count": 8,
   "metadata": {
    "scrolled": true
   },
   "outputs": [
    {
     "data": {
      "text/html": [
       "<div>\n",
       "<style scoped>\n",
       "    .dataframe tbody tr th:only-of-type {\n",
       "        vertical-align: middle;\n",
       "    }\n",
       "\n",
       "    .dataframe tbody tr th {\n",
       "        vertical-align: top;\n",
       "    }\n",
       "\n",
       "    .dataframe thead th {\n",
       "        text-align: right;\n",
       "    }\n",
       "</style>\n",
       "<table border=\"1\" class=\"dataframe\">\n",
       "  <thead>\n",
       "    <tr style=\"text-align: right;\">\n",
       "      <th></th>\n",
       "      <th>video_fname</th>\n",
       "      <th>frame_fnames</th>\n",
       "      <th>label</th>\n",
       "    </tr>\n",
       "  </thead>\n",
       "  <tbody>\n",
       "    <tr>\n",
       "      <th>0</th>\n",
       "      <td>bnfhgczmrn</td>\n",
       "      <td>[/home/ubuntu/data/dfdc/dfdc_cropped_faces/dfd...</td>\n",
       "      <td>1</td>\n",
       "    </tr>\n",
       "    <tr>\n",
       "      <th>1</th>\n",
       "      <td>ojxeusdtmm</td>\n",
       "      <td>[/home/ubuntu/data/dfdc/dfdc_cropped_faces/dfd...</td>\n",
       "      <td>1</td>\n",
       "    </tr>\n",
       "  </tbody>\n",
       "</table>\n",
       "</div>"
      ],
      "text/plain": [
       "  video_fname                                       frame_fnames  label\n",
       "0  bnfhgczmrn  [/home/ubuntu/data/dfdc/dfdc_cropped_faces/dfd...      1\n",
       "1  ojxeusdtmm  [/home/ubuntu/data/dfdc/dfdc_cropped_faces/dfd...      1"
      ]
     },
     "execution_count": 8,
     "metadata": {},
     "output_type": "execute_result"
    }
   ],
   "source": [
    "valid_df.head(2)"
   ]
  },
  {
   "cell_type": "code",
   "execution_count": 19,
   "metadata": {},
   "outputs": [],
   "source": [
    "flat_train_df = flatten_df(train_df)\n",
    "flat_valid_df = flatten_df(valid_df)"
   ]
  },
  {
   "cell_type": "code",
   "execution_count": 20,
   "metadata": {},
   "outputs": [
    {
     "data": {
      "text/html": [
       "<div>\n",
       "<style scoped>\n",
       "    .dataframe tbody tr th:only-of-type {\n",
       "        vertical-align: middle;\n",
       "    }\n",
       "\n",
       "    .dataframe tbody tr th {\n",
       "        vertical-align: top;\n",
       "    }\n",
       "\n",
       "    .dataframe thead th {\n",
       "        text-align: right;\n",
       "    }\n",
       "</style>\n",
       "<table border=\"1\" class=\"dataframe\">\n",
       "  <thead>\n",
       "    <tr style=\"text-align: right;\">\n",
       "      <th></th>\n",
       "      <th>video_fname</th>\n",
       "      <th>frame_fname</th>\n",
       "      <th>label</th>\n",
       "    </tr>\n",
       "  </thead>\n",
       "  <tbody>\n",
       "    <tr>\n",
       "      <th>0</th>\n",
       "      <td>gdnbcgtfay</td>\n",
       "      <td>/home/ubuntu/data/dfdc/dfdc_cropped_faces/dfdc...</td>\n",
       "      <td>1</td>\n",
       "    </tr>\n",
       "    <tr>\n",
       "      <th>1</th>\n",
       "      <td>gdnbcgtfay</td>\n",
       "      <td>/home/ubuntu/data/dfdc/dfdc_cropped_faces/dfdc...</td>\n",
       "      <td>1</td>\n",
       "    </tr>\n",
       "  </tbody>\n",
       "</table>\n",
       "</div>"
      ],
      "text/plain": [
       "  video_fname                                        frame_fname  label\n",
       "0  gdnbcgtfay  /home/ubuntu/data/dfdc/dfdc_cropped_faces/dfdc...      1\n",
       "1  gdnbcgtfay  /home/ubuntu/data/dfdc/dfdc_cropped_faces/dfdc...      1"
      ]
     },
     "execution_count": 20,
     "metadata": {},
     "output_type": "execute_result"
    }
   ],
   "source": [
    "flat_train_df.head(2)"
   ]
  },
  {
   "cell_type": "code",
   "execution_count": 21,
   "metadata": {},
   "outputs": [
    {
     "data": {
      "text/html": [
       "<div>\n",
       "<style scoped>\n",
       "    .dataframe tbody tr th:only-of-type {\n",
       "        vertical-align: middle;\n",
       "    }\n",
       "\n",
       "    .dataframe tbody tr th {\n",
       "        vertical-align: top;\n",
       "    }\n",
       "\n",
       "    .dataframe thead th {\n",
       "        text-align: right;\n",
       "    }\n",
       "</style>\n",
       "<table border=\"1\" class=\"dataframe\">\n",
       "  <thead>\n",
       "    <tr style=\"text-align: right;\">\n",
       "      <th></th>\n",
       "      <th>video_fname</th>\n",
       "      <th>frame_fname</th>\n",
       "      <th>label</th>\n",
       "    </tr>\n",
       "  </thead>\n",
       "  <tbody>\n",
       "    <tr>\n",
       "      <th>0</th>\n",
       "      <td>bnfhgczmrn</td>\n",
       "      <td>/home/ubuntu/data/dfdc/dfdc_cropped_faces/dfdc...</td>\n",
       "      <td>1</td>\n",
       "    </tr>\n",
       "    <tr>\n",
       "      <th>1</th>\n",
       "      <td>bnfhgczmrn</td>\n",
       "      <td>/home/ubuntu/data/dfdc/dfdc_cropped_faces/dfdc...</td>\n",
       "      <td>1</td>\n",
       "    </tr>\n",
       "  </tbody>\n",
       "</table>\n",
       "</div>"
      ],
      "text/plain": [
       "  video_fname                                        frame_fname  label\n",
       "0  bnfhgczmrn  /home/ubuntu/data/dfdc/dfdc_cropped_faces/dfdc...      1\n",
       "1  bnfhgczmrn  /home/ubuntu/data/dfdc/dfdc_cropped_faces/dfdc...      1"
      ]
     },
     "execution_count": 21,
     "metadata": {},
     "output_type": "execute_result"
    }
   ],
   "source": [
    "flat_valid_df.head(2)"
   ]
  },
  {
   "cell_type": "markdown",
   "metadata": {},
   "source": [
    "### 1) Single Frame Balanced Data"
   ]
  },
  {
   "cell_type": "code",
   "execution_count": 22,
   "metadata": {},
   "outputs": [],
   "source": [
    "def dummy_open_image(): return torch.ones((3,5,5)).to(torch.float32)"
   ]
  },
  {
   "cell_type": "code",
   "execution_count": 23,
   "metadata": {},
   "outputs": [],
   "source": [
    "#export\n",
    "class SingleFrameDataset(Dataset):\n",
    "    def __init__(self, flat_df):\n",
    "        self.flat_df = flat_df\n",
    "        \n",
    "    def __getitem__(self, i):\n",
    "        d1 = dict(self.flat_df.iloc[i])\n",
    "        img = open_image(d1['frame_fname']).resize(299).data\n",
    "        d2 = {\"image\":  img}\n",
    "        return {**d1, **d2}\n",
    " \n",
    "    def __len__(self):\n",
    "        return len(self.flat_df)"
   ]
  },
  {
   "cell_type": "code",
   "execution_count": 24,
   "metadata": {},
   "outputs": [],
   "source": [
    "#export\n",
    "class SingleFrameSampler(Sampler):\n",
    "    def __init__(self, df, flat_df):\n",
    "        self.df, self.flat_df = df, flat_df\n",
    "\n",
    "    def __iter__(self):\n",
    "        # sample FAKE and REAL videos equally for each class\n",
    "        class_counts = Counter(self.df['label'])\n",
    "        minority_num_samples = class_counts[0]\n",
    "        minority_fnames = self.df[self.df['label'] == 0]['video_fname'].values\n",
    "        majority_fnames = self.df[self.df['label'] == 1].sample(minority_num_samples)['video_fname'].values\n",
    "        minority_fnames, majority_fnames\n",
    "        sampled_fnames = np.concatenate([minority_fnames, majority_fnames])\n",
    "        sampled_df = self.df[self.df['video_fname'].isin(sampled_fnames)]\n",
    "        \n",
    "        # sample single frame for each sampled video\n",
    "        res = []\n",
    "        for _, row in sampled_df.iterrows():\n",
    "            video_fname = row['video_fname']\n",
    "            frame_fname = np.random.choice(row['frame_fnames'])\n",
    "            res.append({'video_fname':video_fname, 'frame_fname':frame_fname})\n",
    "        sampled_flat_df = pd.DataFrame(res)\n",
    "        sampled_flat_df['sample_this'] = 1\n",
    "        merged_flat_df = self.flat_df.merge(sampled_flat_df,on=['video_fname', 'frame_fname'],how='outer')\n",
    "        \n",
    "        # iterator for the epoch\n",
    "        return iter(np.random.permutation(list(merged_flat_df[~merged_flat_df.sample_this.isna()].index))) "
   ]
  },
  {
   "cell_type": "code",
   "execution_count": 25,
   "metadata": {},
   "outputs": [],
   "source": [
    "train_ds = SingleFrameDataset(flat_train_df)\n",
    "train_sampler = SingleFrameSampler(train_df, flat_train_df)"
   ]
  },
  {
   "cell_type": "code",
   "execution_count": 40,
   "metadata": {
    "scrolled": true
   },
   "outputs": [
    {
     "name": "stdout",
     "output_type": "stream",
     "text": [
      "tensor([0, 1, 0, 0, 0, 1, 0, 0, 1, 0, 1, 1, 1, 0, 0, 1, 1, 0, 0, 0, 0, 1, 0, 0,\n",
      "        1, 1, 0, 1, 0, 1, 1, 0]) torch.Size([32, 3, 299, 299])\n"
     ]
    }
   ],
   "source": [
    "train_dl = DataLoader(train_ds, batch_size=32, sampler=train_sampler, shuffle=False)\n",
    "for x in train_dl: \n",
    "#     print(x['video_fname'], x['frame_fname'], x['label'], x['image'].shape); break\n",
    "    print(x['label'], x['image'].shape); break"
   ]
  },
  {
   "cell_type": "code",
   "execution_count": 35,
   "metadata": {},
   "outputs": [],
   "source": [
    "valid_ds = SingleFrameDataset(flat_valid_df)"
   ]
  },
  {
   "cell_type": "code",
   "execution_count": 41,
   "metadata": {},
   "outputs": [
    {
     "name": "stdout",
     "output_type": "stream",
     "text": [
      "tensor([1, 1, 1, 1, 1, 1, 1, 1, 1, 1, 1, 1, 1, 1, 1, 1, 1, 1, 1, 1, 1, 1, 1, 1,\n",
      "        1, 1, 1, 1, 1, 1, 1, 1]) torch.Size([32, 3, 299, 299])\n"
     ]
    }
   ],
   "source": [
    "valid_dl = DataLoader(valid_ds, batch_size=32, shuffle=False)\n",
    "for x in valid_dl:\n",
    "#     print(x['video_fname'], x['frame_fname'], x['label'], x['image'].shape); break\n",
    "    print(x['label'], x['image'].shape); break"
   ]
  },
  {
   "cell_type": "code",
   "execution_count": 43,
   "metadata": {},
   "outputs": [],
   "source": [
    "class SimpleModel(Module):\n",
    "    def __init__(self):\n",
    "        self.conv = nn.Conv2d(3,1,3,stride=5,dilation=3)\n",
    "        self.fc = nn.Linear(3481, 2)\n",
    "    def forward(self, x):\n",
    "        x = self.conv(x)\n",
    "        bs = x.shape[0]\n",
    "        x = x.view(bs,-1)\n",
    "        return self.fc(x)"
   ]
  },
  {
   "cell_type": "code",
   "execution_count": 44,
   "metadata": {},
   "outputs": [],
   "source": [
    "model = SimpleModel()"
   ]
  },
  {
   "cell_type": "code",
   "execution_count": 47,
   "metadata": {},
   "outputs": [
    {
     "data": {
      "text/plain": [
       "torch.Size([32])"
      ]
     },
     "execution_count": 47,
     "metadata": {},
     "output_type": "execute_result"
    }
   ],
   "source": [
    "model(x['image']).softmax(-1)[:,1].shape"
   ]
  },
  {
   "cell_type": "code",
   "execution_count": 49,
   "metadata": {},
   "outputs": [],
   "source": [
    "DataBunch??"
   ]
  },
  {
   "cell_type": "code",
   "execution_count": null,
   "metadata": {},
   "outputs": [],
   "source": []
  },
  {
   "cell_type": "code",
   "execution_count": null,
   "metadata": {},
   "outputs": [],
   "source": []
  },
  {
   "cell_type": "code",
   "execution_count": null,
   "metadata": {},
   "outputs": [],
   "source": []
  },
  {
   "cell_type": "code",
   "execution_count": null,
   "metadata": {},
   "outputs": [],
   "source": []
  },
  {
   "cell_type": "code",
   "execution_count": null,
   "metadata": {},
   "outputs": [],
   "source": []
  },
  {
   "cell_type": "code",
   "execution_count": null,
   "metadata": {},
   "outputs": [],
   "source": []
  },
  {
   "cell_type": "code",
   "execution_count": null,
   "metadata": {},
   "outputs": [],
   "source": []
  },
  {
   "cell_type": "code",
   "execution_count": null,
   "metadata": {},
   "outputs": [],
   "source": []
  },
  {
   "cell_type": "code",
   "execution_count": null,
   "metadata": {},
   "outputs": [],
   "source": []
  },
  {
   "cell_type": "code",
   "execution_count": null,
   "metadata": {},
   "outputs": [],
   "source": []
  },
  {
   "cell_type": "code",
   "execution_count": null,
   "metadata": {},
   "outputs": [],
   "source": []
  },
  {
   "cell_type": "code",
   "execution_count": null,
   "metadata": {},
   "outputs": [],
   "source": []
  },
  {
   "cell_type": "code",
   "execution_count": null,
   "metadata": {},
   "outputs": [],
   "source": []
  },
  {
   "cell_type": "code",
   "execution_count": null,
   "metadata": {},
   "outputs": [],
   "source": []
  },
  {
   "cell_type": "code",
   "execution_count": null,
   "metadata": {},
   "outputs": [],
   "source": []
  },
  {
   "cell_type": "code",
   "execution_count": null,
   "metadata": {},
   "outputs": [],
   "source": []
  },
  {
   "cell_type": "code",
   "execution_count": null,
   "metadata": {},
   "outputs": [],
   "source": []
  },
  {
   "cell_type": "code",
   "execution_count": null,
   "metadata": {},
   "outputs": [],
   "source": []
  },
  {
   "cell_type": "code",
   "execution_count": null,
   "metadata": {},
   "outputs": [],
   "source": []
  },
  {
   "cell_type": "code",
   "execution_count": null,
   "metadata": {},
   "outputs": [],
   "source": []
  }
 ],
 "metadata": {
  "kernelspec": {
   "display_name": "Python [conda env:deepfake]",
   "language": "python",
   "name": "conda-env-deepfake-py"
  },
  "language_info": {
   "codemirror_mode": {
    "name": "ipython",
    "version": 3
   },
   "file_extension": ".py",
   "mimetype": "text/x-python",
   "name": "python",
   "nbconvert_exporter": "python",
   "pygments_lexer": "ipython3",
   "version": "3.7.6"
  }
 },
 "nbformat": 4,
 "nbformat_minor": 2
}
