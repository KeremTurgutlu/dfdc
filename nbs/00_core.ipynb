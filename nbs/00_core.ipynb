{
 "cells": [
  {
   "cell_type": "markdown",
   "metadata": {},
   "source": [
    "### Basic and general utilities for competition"
   ]
  },
  {
   "cell_type": "code",
   "execution_count": 1,
   "metadata": {},
   "outputs": [],
   "source": [
    "# default_exp core.core"
   ]
  },
  {
   "cell_type": "code",
   "execution_count": 2,
   "metadata": {},
   "outputs": [],
   "source": [
    "#export\n",
    "from fastai.imports import *"
   ]
  },
  {
   "cell_type": "code",
   "execution_count": 3,
   "metadata": {},
   "outputs": [],
   "source": [
    "data_path = Path(\"/home/ubuntu/data/dfdc/\")"
   ]
  },
  {
   "cell_type": "code",
   "execution_count": 4,
   "metadata": {},
   "outputs": [],
   "source": [
    "video_path = data_path/\"dfdc_train/dfdc_train_part_48\""
   ]
  },
  {
   "cell_type": "markdown",
   "metadata": {},
   "source": [
    "#### Reading metadata file into a dataframe"
   ]
  },
  {
   "cell_type": "code",
   "execution_count": 5,
   "metadata": {},
   "outputs": [],
   "source": [
    "#export\n",
    "def read_metadata(fn):\n",
    "    \"read DFDC competition metadata as pd.DataFrame\"\n",
    "    metadf = pd.read_json(fn).T.reset_index()\n",
    "    metadf.columns = ['fname','label','split','original']\n",
    "    return metadf "
   ]
  },
  {
   "cell_type": "code",
   "execution_count": 6,
   "metadata": {},
   "outputs": [
    {
     "data": {
      "text/html": [
       "<div>\n",
       "<style scoped>\n",
       "    .dataframe tbody tr th:only-of-type {\n",
       "        vertical-align: middle;\n",
       "    }\n",
       "\n",
       "    .dataframe tbody tr th {\n",
       "        vertical-align: top;\n",
       "    }\n",
       "\n",
       "    .dataframe thead th {\n",
       "        text-align: right;\n",
       "    }\n",
       "</style>\n",
       "<table border=\"1\" class=\"dataframe\">\n",
       "  <thead>\n",
       "    <tr style=\"text-align: right;\">\n",
       "      <th></th>\n",
       "      <th>fname</th>\n",
       "      <th>label</th>\n",
       "      <th>split</th>\n",
       "      <th>original</th>\n",
       "    </tr>\n",
       "  </thead>\n",
       "  <tbody>\n",
       "    <tr>\n",
       "      <th>0</th>\n",
       "      <td>noagmcpxfb.mp4</td>\n",
       "      <td>FAKE</td>\n",
       "      <td>train</td>\n",
       "      <td>dgtdgrzifi.mp4</td>\n",
       "    </tr>\n",
       "    <tr>\n",
       "      <th>1</th>\n",
       "      <td>alzbizkswy.mp4</td>\n",
       "      <td>REAL</td>\n",
       "      <td>train</td>\n",
       "      <td>NaN</td>\n",
       "    </tr>\n",
       "    <tr>\n",
       "      <th>2</th>\n",
       "      <td>xcmkbpzfzw.mp4</td>\n",
       "      <td>FAKE</td>\n",
       "      <td>train</td>\n",
       "      <td>aoqzxlwvmi.mp4</td>\n",
       "    </tr>\n",
       "    <tr>\n",
       "      <th>3</th>\n",
       "      <td>uywdjgfgqr.mp4</td>\n",
       "      <td>FAKE</td>\n",
       "      <td>train</td>\n",
       "      <td>oupjhtodai.mp4</td>\n",
       "    </tr>\n",
       "    <tr>\n",
       "      <th>4</th>\n",
       "      <td>fbqwomdehr.mp4</td>\n",
       "      <td>FAKE</td>\n",
       "      <td>train</td>\n",
       "      <td>xtixietgjp.mp4</td>\n",
       "    </tr>\n",
       "  </tbody>\n",
       "</table>\n",
       "</div>"
      ],
      "text/plain": [
       "            fname label  split        original\n",
       "0  noagmcpxfb.mp4  FAKE  train  dgtdgrzifi.mp4\n",
       "1  alzbizkswy.mp4  REAL  train             NaN\n",
       "2  xcmkbpzfzw.mp4  FAKE  train  aoqzxlwvmi.mp4\n",
       "3  uywdjgfgqr.mp4  FAKE  train  oupjhtodai.mp4\n",
       "4  fbqwomdehr.mp4  FAKE  train  xtixietgjp.mp4"
      ]
     },
     "execution_count": 6,
     "metadata": {},
     "output_type": "execute_result"
    }
   ],
   "source": [
    "from fastai.data_block import get_files\n",
    "metadata = get_files(video_path, extensions=['.json'])\n",
    "metadf = read_metadata(metadata[0])\n",
    "metadf.head()"
   ]
  },
  {
   "cell_type": "code",
   "execution_count": 7,
   "metadata": {},
   "outputs": [
    {
     "data": {
      "text/plain": [
       "(2463, 4)"
      ]
     },
     "execution_count": 7,
     "metadata": {},
     "output_type": "execute_result"
    }
   ],
   "source": [
    "metadf.shape"
   ]
  },
  {
   "cell_type": "markdown",
   "metadata": {},
   "source": [
    "### Extract original video files"
   ]
  },
  {
   "cell_type": "code",
   "execution_count": 7,
   "metadata": {},
   "outputs": [],
   "source": [
    "#export\n",
    "def get_original_video_list(path, metadf, dest=None):\n",
    "    \"\"\"\n",
    "    get original video list from meta dataframe\n",
    "    path: path of directory to video files\n",
    "    dest: destination path to save the list\n",
    "    \"\"\"\n",
    "    fnames = list(set(metadf['original'].dropna().values))\n",
    "    video_files = pd.Series(list(map(lambda o: str(path/o), fnames)))\n",
    "    if dest: video_files.to_csv(dest, index=False)\n",
    "    return video_files"
   ]
  },
  {
   "cell_type": "markdown",
   "metadata": {},
   "source": [
    "#### Reading face detection cvs"
   ]
  },
  {
   "cell_type": "code",
   "execution_count": null,
   "metadata": {},
   "outputs": [],
   "source": [
    "#export\n",
    "def read_face_detection_df(path):\n",
    "    df = pd.read_csv(path)\n",
    "    df.face_detections = (df.face_detections.apply(lambda o: json.loads(o.replace(\"'\", '\"'))))\n",
    "    return df"
   ]
  },
  {
   "cell_type": "markdown",
   "metadata": {},
   "source": [
    "#### There are total of 50 files indices (0 - 49)"
   ]
  },
  {
   "cell_type": "code",
   "execution_count": 8,
   "metadata": {},
   "outputs": [],
   "source": [
    "from fastai.vision import *"
   ]
  },
  {
   "cell_type": "code",
   "execution_count": 9,
   "metadata": {},
   "outputs": [],
   "source": [
    "get_train_part_data_link = lambda o: Path(f\"https://www.kaggle.com/c/16880/datadownload/dfdc_train_part_{o}.zip\")"
   ]
  },
  {
   "cell_type": "code",
   "execution_count": 10,
   "metadata": {
    "scrolled": true
   },
   "outputs": [
    {
     "data": {
      "text/plain": [
       "[PosixPath('/home/ubuntu/data/dfdc/dfdc_train/dfdc_train_part_48'),\n",
       " PosixPath('/home/ubuntu/data/dfdc/dfdc_train/dfdc_train_part_49')]"
      ]
     },
     "execution_count": 10,
     "metadata": {},
     "output_type": "execute_result"
    }
   ],
   "source": [
    "train_data_path = (data_path/'dfdc_train'); train_data_path.ls()"
   ]
  },
  {
   "cell_type": "code",
   "execution_count": 11,
   "metadata": {
    "scrolled": true
   },
   "outputs": [
    {
     "data": {
      "text/plain": [
       "PosixPath('https:/www.kaggle.com/c/16880/datadownload/dfdc_train_part_47.zip')"
      ]
     },
     "execution_count": 11,
     "metadata": {},
     "output_type": "execute_result"
    }
   ],
   "source": [
    "link = get_train_part_data_link(47); link"
   ]
  },
  {
   "cell_type": "markdown",
   "metadata": {},
   "source": [
    "### Running commands"
   ]
  },
  {
   "cell_type": "code",
   "execution_count": 1,
   "metadata": {},
   "outputs": [],
   "source": [
    "#export\n",
    "import subprocess, shlex, datetime, json"
   ]
  },
  {
   "cell_type": "code",
   "execution_count": 2,
   "metadata": {},
   "outputs": [],
   "source": [
    "#export\n",
    "def _now(): return datetime.datetime.now().strftime(\"%m/%d/%Y, %H:%M:%S\")\n",
    "\n",
    "def _add_dict_to_json(fn, d):\n",
    "    \"Adds a dictionary to json-like file or creates one\"\n",
    "    assert type(d) == dict\n",
    "    path = Path(fn)\n",
    "    if path.exists(): l = json.loads(path.open().read())\n",
    "    else: l = []    \n",
    "    l.append(d)\n",
    "    with open(fn, \"w\") as f: f.write(json.dumps(l))\n",
    "        \n",
    "def run_command(command, logfn=None):\n",
    "    \"Run shell command as an external process, optionally write logs to logfn\"\n",
    "    if type(command) == str: command = shlex.split(command)\n",
    "    elif type(command) == list: command = command\n",
    "    else: raise AssertionError(\"Command should be string or list\")\n",
    "    process = subprocess.Popen(command, stdout=subprocess.PIPE, stderr=subprocess.PIPE)\n",
    "    stdout = []\n",
    "    start_time = _now()\n",
    "    while True:\n",
    "        output = process.stdout.readline()\n",
    "        if output == b'' and process.poll() is not None: break\n",
    "        if output: \n",
    "            _out = output.decode(); print(_out.strip())\n",
    "            stdout.append(_out)\n",
    "    end_time = _now()\n",
    "    rc = process.poll()\n",
    "    _, stderr =  process.communicate()\n",
    "    err = stderr.decode(); print(err)\n",
    "    out = \"\".join(stdout)\n",
    "    if logfn:\n",
    "        d = {\"start_time\": start_time, \"end_time\": end_time, \n",
    "             \"command\": command, \"stderr\":err, \"stdout\":out}\n",
    "        _add_dict_to_json(logfn, d)\n",
    "    return rc"
   ]
  },
  {
   "cell_type": "code",
   "execution_count": 3,
   "metadata": {},
   "outputs": [
    {
     "name": "stdout",
     "output_type": "stream",
     "text": [
      "total 18600\n",
      "-rw-rw-r-- 1 ubuntu ubuntu 4125887 Mar 14 08:16 001 - extract_faces.ipynb\n",
      "-rw-rw-r-- 1 ubuntu ubuntu 4636508 Mar 14 08:16 002 - face_detection_retinaface.ipynb\n",
      "-rw-rw-r-- 1 ubuntu ubuntu   17415 Mar 14 08:16 003 - save_face_crops.ipynb\n",
      "-rw-rw-r-- 1 ubuntu ubuntu 1995407 Mar 14 13:53 004 - tl_baseline.ipynb\n",
      "-rw-rw-r-- 1 ubuntu ubuntu    8767 Mar 15 17:08 00_core.ipynb\n",
      "-rw-rw-r-- 1 ubuntu ubuntu 3011212 Mar 14 09:30 01_video_core.ipynb\n",
      "-rw-rw-r-- 1 ubuntu ubuntu    3320 Mar 15 19:01 02_download_unzip_files.ipynb\n",
      "-rw-rw-r-- 1 ubuntu ubuntu    4150 Mar 14 09:14 10_bbox_utils.ipynb\n",
      "-rw-rw-r-- 1 ubuntu ubuntu 1055732 Mar 15 17:01 11_retinaface_detection.ipynb\n",
      "-rw-rw-r-- 1 ubuntu ubuntu   14718 Mar 15 19:10 12_generate_face_detections.ipynb\n",
      "-rw-rw-r-- 1 ubuntu ubuntu 1912954 Mar 15 18:06 13_save_cropped_faces.ipynb\n",
      "-rw-rw-r-- 1 ubuntu ubuntu   22008 Mar 15 20:06 14_download_detect_crop_save.ipynb\n",
      "-rw-rw-r-- 1 ubuntu ubuntu    2365 Mar 16 08:01 15_extract_all.ipynb\n",
      "-rw-rw-r-- 1 ubuntu ubuntu    9601 Mar 14 13:05 20_datasets.ipynb\n",
      "-rw-rw-r-- 1 ubuntu ubuntu   53412 Mar 14 14:04 21_single_frame_model.ipynb\n",
      "lrwxrwxrwx 1 ubuntu ubuntu       7 Mar 14 09:32 dfdc -> ../dfdc\n",
      "-rw-rw-r-- 1 ubuntu ubuntu    1490 Mar 14 08:16 index.ipynb\n",
      "-rw-rw-r-- 1 ubuntu ubuntu 2127890 Mar 15 16:34 inspect original fake pairs for face detection.ipynb\n",
      "\n"
     ]
    },
    {
     "data": {
      "text/plain": [
       "0"
      ]
     },
     "execution_count": 3,
     "metadata": {},
     "output_type": "execute_result"
    }
   ],
   "source": [
    "run_command(['ls', '-l'])"
   ]
  },
  {
   "cell_type": "markdown",
   "metadata": {},
   "source": [
    "### export"
   ]
  },
  {
   "cell_type": "code",
   "execution_count": 4,
   "metadata": {},
   "outputs": [],
   "source": [
    "from nbdev.export import notebook2script"
   ]
  },
  {
   "cell_type": "code",
   "execution_count": 5,
   "metadata": {},
   "outputs": [
    {
     "name": "stdout",
     "output_type": "stream",
     "text": [
      "Converted 001 - extract_faces.ipynb.\n",
      "Converted 002 - face_detection_retinaface.ipynb.\n",
      "Converted 003 - save_face_crops.ipynb.\n",
      "Converted 004 - tl_baseline.ipynb.\n",
      "Converted 00_core.ipynb.\n",
      "Converted 01_video_core.ipynb.\n",
      "Converted 02_download_unzip_files.ipynb.\n",
      "Converted 10_bbox_utils.ipynb.\n",
      "Converted 11_retinaface_detection.ipynb.\n",
      "Converted 12_generate_face_detections.ipynb.\n",
      "Converted 13_save_cropped_faces.ipynb.\n",
      "Converted 14_download_detect_crop_save.ipynb.\n",
      "Converted 15_extract_all.ipynb.\n",
      "Converted 20_datasets.ipynb.\n",
      "Converted 21_single_frame_model.ipynb.\n",
      "Converted index.ipynb.\n",
      "Converted inspect original fake pairs for face detection.ipynb.\n"
     ]
    }
   ],
   "source": [
    "notebook2script()"
   ]
  },
  {
   "cell_type": "code",
   "execution_count": null,
   "metadata": {},
   "outputs": [],
   "source": []
  }
 ],
 "metadata": {
  "kernelspec": {
   "display_name": "Python [conda env:deepfake]",
   "language": "python",
   "name": "conda-env-deepfake-py"
  },
  "language_info": {
   "codemirror_mode": {
    "name": "ipython",
    "version": 3
   },
   "file_extension": ".py",
   "mimetype": "text/x-python",
   "name": "python",
   "nbconvert_exporter": "python",
   "pygments_lexer": "ipython3",
   "version": "3.7.6"
  }
 },
 "nbformat": 4,
 "nbformat_minor": 2
}
