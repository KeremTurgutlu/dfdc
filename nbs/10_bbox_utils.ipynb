{
 "cells": [
  {
   "cell_type": "code",
   "execution_count": 1,
   "metadata": {},
   "outputs": [],
   "source": [
    "# default_exp face_detection.bbox_utils"
   ]
  },
  {
   "cell_type": "code",
   "execution_count": 2,
   "metadata": {},
   "outputs": [],
   "source": [
    "#export\n",
    "from fastai.vision import *"
   ]
  },
  {
   "cell_type": "code",
   "execution_count": 3,
   "metadata": {},
   "outputs": [],
   "source": [
    "#export\n",
    "def bboxes_to_original_scale(bboxes, H, W, sz):\n",
    "    \"\"\"\n",
    "    convert bbox points to original image scale\n",
    "    \n",
    "    bboxes: List of numpy arrays with shape (M, 4) M: # of bbox coordinates\n",
    "    \"\"\"\n",
    "    res = []\n",
    "    for bb in bboxes:\n",
    "        h_scale, w_scale = H/sz, W/sz\n",
    "        orig_bboxes = (bb*array([w_scale, h_scale, w_scale, h_scale])[None, ...]).astype(int)\n",
    "        res.append(orig_bboxes)\n",
    "    return res"
   ]
  },
  {
   "cell_type": "code",
   "execution_count": 4,
   "metadata": {},
   "outputs": [],
   "source": [
    "#export\n",
    "def resize_bbox_by_scale(bb, bb_scale, H, W):\n",
    "    \"\"\"\n",
    "    resize a bbox with a given scale parameter\n",
    "    \n",
    "    bb: a bounding box with (left, top, right, bottom) values\n",
    "    \"\"\"\n",
    "    left, top, right, bottom = bb\n",
    "    \n",
    "    cx,cy = (top + bottom)//2, (left + right)//2 \n",
    "    h,w = (bottom - top), (right - left)\n",
    "    sh, sw = int(h*bb_scale), int(w*bb_scale)\n",
    "\n",
    "    stop, sbottom = cx - sh//2, cx + sh//2\n",
    "    sleft, sright = cy - sw//2, cy + sw//2\n",
    "    stop, sleft, sbottom, sright = max(0, stop), max(0, sleft), min(H, sbottom), min(W, sright)    \n",
    "    return (sleft, stop, sright, sbottom)"
   ]
  },
  {
   "cell_type": "code",
   "execution_count": 5,
   "metadata": {},
   "outputs": [],
   "source": [
    "#export\n",
    "def landmarks_to_original_scale(landmarks, H, W, sz):\n",
    "    \"\"\"\n",
    "    convert landmarks to original image scale\n",
    "    \n",
    "    landmarks: List of numpy arrays with shape (M, 10) M: # landmark coordinates\n",
    "    \"\"\"\n",
    "    res = []\n",
    "    for landms in landmarks:\n",
    "        h_scale, w_scale = H/sz, W/sz\n",
    "        orig_landms = (landms*array([w_scale, h_scale]*5)[None, ...]).astype(int)\n",
    "        res.append(orig_landms)\n",
    "    return res"
   ]
  },
  {
   "cell_type": "markdown",
   "metadata": {},
   "source": [
    "### export"
   ]
  },
  {
   "cell_type": "code",
   "execution_count": 6,
   "metadata": {},
   "outputs": [],
   "source": [
    "from nbdev.export import notebook2script"
   ]
  },
  {
   "cell_type": "code",
   "execution_count": 7,
   "metadata": {
    "scrolled": true
   },
   "outputs": [
    {
     "name": "stdout",
     "output_type": "stream",
     "text": [
      "Converted 001 - extract_faces.ipynb.\n",
      "Converted 002 - face_detection_retinaface.ipynb.\n",
      "Converted 003 - save_face_crops.ipynb.\n",
      "Converted 004 - tl_baseline.ipynb.\n",
      "Converted 00_core.ipynb.\n",
      "Converted 01_video_core.ipynb.\n",
      "Converted 10_bbox_utils.ipynb.\n",
      "Converted 11_retinaface_detection.ipynb.\n",
      "Converted 12_generate_face_detections.ipynb.\n",
      "Converted 13_save_cropped_faces.ipynb.\n",
      "Converted 21_baseline_model.ipynb.\n",
      "Converted index.ipynb.\n"
     ]
    }
   ],
   "source": [
    "notebook2script()"
   ]
  },
  {
   "cell_type": "code",
   "execution_count": null,
   "metadata": {},
   "outputs": [],
   "source": []
  }
 ],
 "metadata": {
  "kernelspec": {
   "display_name": "Python [conda env:deepfake]",
   "language": "python",
   "name": "conda-env-deepfake-py"
  },
  "language_info": {
   "codemirror_mode": {
    "name": "ipython",
    "version": 3
   },
   "file_extension": ".py",
   "mimetype": "text/x-python",
   "name": "python",
   "nbconvert_exporter": "python",
   "pygments_lexer": "ipython3",
   "version": "3.7.6"
  }
 },
 "nbformat": 4,
 "nbformat_minor": 2
}
