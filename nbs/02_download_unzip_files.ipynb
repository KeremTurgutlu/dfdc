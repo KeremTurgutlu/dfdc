{
 "cells": [
  {
   "cell_type": "code",
   "execution_count": 1,
   "metadata": {},
   "outputs": [],
   "source": [
    "# default_exp core.download_unzip"
   ]
  },
  {
   "cell_type": "code",
   "execution_count": 69,
   "metadata": {},
   "outputs": [],
   "source": [
    "#export\n",
    "from fastai.imports import *\n",
    "download_parts = [\"0\"+i if len(i) == 1 else i for i in map(str, range(50))]"
   ]
  },
  {
   "cell_type": "code",
   "execution_count": 64,
   "metadata": {},
   "outputs": [],
   "source": [
    "#export\n",
    "def download_unzip(part_no=\"01\"):\n",
    "    \"download, unzip and remove zip part file return unzipped dir path\"\n",
    "    data_path = Path(\"/home/ubuntu/data/dfdc/\")\n",
    "    data_video_path = data_path/'dfdc_train'\n",
    "    cookies_path = data_path/'cookies.txt'\n",
    "\n",
    "    url = f\"https://www.kaggle.com/c/16880/datadownload/dfdc_train_part_{part_no}.zip\"\n",
    "    output = data_path/f'dfdc_train/dfdc_train_part_{part_no}.zip'\n",
    "    cmd = f\"wget --load-cookies {cookies_path} {url} -O {output}\"\n",
    "    os.system(cmd)\n",
    "\n",
    "    shutil.unpack_archive(str(output), str(output.parent))\n",
    "    os.remove(output)\n",
    "    splits = output.stem.split('_')\n",
    "    dirname = \"_\".join(splits[:-1] + [splits[-1][1:] if splits[-1].startswith('0') else splits[-1]])\n",
    "    return output.parent/dirname"
   ]
  },
  {
   "cell_type": "markdown",
   "metadata": {},
   "source": [
    "### export"
   ]
  },
  {
   "cell_type": "code",
   "execution_count": 70,
   "metadata": {},
   "outputs": [],
   "source": [
    "from nbdev.export import notebook2script"
   ]
  },
  {
   "cell_type": "code",
   "execution_count": 71,
   "metadata": {
    "scrolled": false
   },
   "outputs": [
    {
     "name": "stdout",
     "output_type": "stream",
     "text": [
      "Converted 001 - extract_faces.ipynb.\n",
      "Converted 002 - face_detection_retinaface.ipynb.\n",
      "Converted 003 - save_face_crops.ipynb.\n",
      "Converted 004 - tl_baseline.ipynb.\n",
      "Converted 00_core.ipynb.\n",
      "Converted 01_video_core.ipynb.\n",
      "Converted 02_download_unzip_files.ipynb.\n",
      "Converted 10_bbox_utils.ipynb.\n",
      "Converted 11_retinaface_detection.ipynb.\n",
      "Converted 12_generate_face_detections.ipynb.\n",
      "Converted 13_save_cropped_faces.ipynb.\n",
      "Converted 14_download_detect_crop_save.ipynb.\n",
      "Converted 20_datasets.ipynb.\n",
      "Converted 21_single_frame_model.ipynb.\n",
      "Converted index.ipynb.\n",
      "Converted inspect original fake pairs for face detection.ipynb.\n"
     ]
    }
   ],
   "source": [
    "notebook2script()"
   ]
  },
  {
   "cell_type": "code",
   "execution_count": null,
   "metadata": {},
   "outputs": [],
   "source": []
  }
 ],
 "metadata": {
  "kernelspec": {
   "display_name": "Python [conda env:deepfake]",
   "language": "python",
   "name": "conda-env-deepfake-py"
  },
  "language_info": {
   "codemirror_mode": {
    "name": "ipython",
    "version": 3
   },
   "file_extension": ".py",
   "mimetype": "text/x-python",
   "name": "python",
   "nbconvert_exporter": "python",
   "pygments_lexer": "ipython3",
   "version": "3.7.6"
  }
 },
 "nbformat": 4,
 "nbformat_minor": 4
}
