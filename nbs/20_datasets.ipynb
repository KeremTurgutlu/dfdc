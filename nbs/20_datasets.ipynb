{
 "cells": [
  {
   "cell_type": "code",
   "execution_count": 1,
   "metadata": {},
   "outputs": [],
   "source": [
    "# default_exp modeling.dataset_utils"
   ]
  },
  {
   "cell_type": "code",
   "execution_count": 14,
   "metadata": {},
   "outputs": [],
   "source": [
    "#export\n",
    "from dfdc.core.core import read_metadata\n",
    "from fastai.vision import *"
   ]
  },
  {
   "cell_type": "code",
   "execution_count": 3,
   "metadata": {
    "scrolled": true
   },
   "outputs": [
    {
     "name": "stdout",
     "output_type": "stream",
     "text": [
      "/home/ubuntu/data/dfdc\n",
      "/home/ubuntu/data/dfdc/dfdc_train\n"
     ]
    }
   ],
   "source": [
    "data_path = Path(\"/home/ubuntu/data/dfdc\"); print(data_path)\n",
    "video_path = data_path/'dfdc_train'; print(video_path)"
   ]
  },
  {
   "cell_type": "code",
   "execution_count": 4,
   "metadata": {},
   "outputs": [],
   "source": [
    "#export\n",
    "def sort_dict(d): return {k: v for k, v in sorted(d.items(), key=lambda item: item[1])}"
   ]
  },
  {
   "cell_type": "code",
   "execution_count": 17,
   "metadata": {},
   "outputs": [],
   "source": [
    "#export\n",
    "def flatten_df(df):\n",
    "    res = []\n",
    "    for _, row in df.iterrows():\n",
    "        video_fname = row['video_fname']\n",
    "        frame_fnames = row['frame_fnames']\n",
    "        label = row['label']\n",
    "        for frame_fname in frame_fnames:\n",
    "            res.append({'video_fname': video_fname, 'frame_fname': frame_fname, 'label':label})\n",
    "    return pd.DataFrame(res)"
   ]
  },
  {
   "cell_type": "code",
   "execution_count": 18,
   "metadata": {},
   "outputs": [],
   "source": [
    "#export\n",
    "def convert_cropped_files_todf(cropped_files:List[PathOrStr]):\n",
    "    \"sort all frames by no and create dataframe for given videos\"\n",
    "    d = defaultdict(dict)\n",
    "    for o in cropped_files:\n",
    "        fname = o.parent.name\n",
    "        frame_fname = str(o)\n",
    "        frame_no = int(o.name.split(\"_\")[1])\n",
    "        d[fname][frame_fname] = frame_no\n",
    "\n",
    "    res = []\n",
    "    for video_fname, crop_fnames in d.items():\n",
    "        frame_fnames = list(sort_dict(d[video_fname]).keys())\n",
    "        res.append({\"video_fname\":video_fname, \"frame_fnames\":frame_fnames})\n",
    "    return pd.DataFrame(res)\n",
    "\n",
    "\n",
    "def create_frame_label_df(data_path, video_path, part_no):\n",
    "    cropped_path = data_path/f'dfdc_cropped_faces/dfdc_train_part_{part_no}'\n",
    "    cropped_files = get_files(cropped_path, extensions=['.jpg'], recurse=True)\n",
    "    df = convert_cropped_files_todf(cropped_files)\n",
    "    metadf = read_metadata(video_path/f'dfdc_train_part_{part_no}/metadata.json')\n",
    "    metadf['video_fname'] = metadf.fname.apply(lambda o: Path(o).stem)\n",
    "    metadf['label'] = metadf['label'].map({\"REAL\":0, \"FAKE\":1})\n",
    "    merged_df = df.merge(metadf[['video_fname', 'label']], on=\"video_fname\", how=\"left\")\n",
    "    assert not sum(merged_df.isna().any())\n",
    "    return merged_df"
   ]
  },
  {
   "cell_type": "code",
   "execution_count": 19,
   "metadata": {},
   "outputs": [],
   "source": [
    "train_df = create_frame_label_df(data_path, video_path, 49)\n",
    "valid_df = create_frame_label_df(data_path, video_path, 48)"
   ]
  },
  {
   "cell_type": "code",
   "execution_count": 20,
   "metadata": {},
   "outputs": [
    {
     "data": {
      "text/plain": [
       "((3121, 3), (2450, 3))"
      ]
     },
     "execution_count": 20,
     "metadata": {},
     "output_type": "execute_result"
    }
   ],
   "source": [
    "train_df.shape, valid_df.shape"
   ]
  },
  {
   "cell_type": "code",
   "execution_count": 21,
   "metadata": {},
   "outputs": [
    {
     "data": {
      "text/plain": [
       "(0.8349887856456264, 0.8277551020408164)"
      ]
     },
     "execution_count": 21,
     "metadata": {},
     "output_type": "execute_result"
    }
   ],
   "source": [
    "train_df.label.mean(), valid_df.label.mean()"
   ]
  },
  {
   "cell_type": "code",
   "execution_count": 22,
   "metadata": {},
   "outputs": [
    {
     "data": {
      "text/html": [
       "<div>\n",
       "<style scoped>\n",
       "    .dataframe tbody tr th:only-of-type {\n",
       "        vertical-align: middle;\n",
       "    }\n",
       "\n",
       "    .dataframe tbody tr th {\n",
       "        vertical-align: top;\n",
       "    }\n",
       "\n",
       "    .dataframe thead th {\n",
       "        text-align: right;\n",
       "    }\n",
       "</style>\n",
       "<table border=\"1\" class=\"dataframe\">\n",
       "  <thead>\n",
       "    <tr style=\"text-align: right;\">\n",
       "      <th></th>\n",
       "      <th>video_fname</th>\n",
       "      <th>frame_fnames</th>\n",
       "      <th>label</th>\n",
       "    </tr>\n",
       "  </thead>\n",
       "  <tbody>\n",
       "    <tr>\n",
       "      <th>0</th>\n",
       "      <td>gdnbcgtfay</td>\n",
       "      <td>[/home/ubuntu/data/dfdc/dfdc_cropped_faces/dfd...</td>\n",
       "      <td>1</td>\n",
       "    </tr>\n",
       "    <tr>\n",
       "      <th>1</th>\n",
       "      <td>klavqvgpye</td>\n",
       "      <td>[/home/ubuntu/data/dfdc/dfdc_cropped_faces/dfd...</td>\n",
       "      <td>1</td>\n",
       "    </tr>\n",
       "  </tbody>\n",
       "</table>\n",
       "</div>"
      ],
      "text/plain": [
       "  video_fname                                       frame_fnames  label\n",
       "0  gdnbcgtfay  [/home/ubuntu/data/dfdc/dfdc_cropped_faces/dfd...      1\n",
       "1  klavqvgpye  [/home/ubuntu/data/dfdc/dfdc_cropped_faces/dfd...      1"
      ]
     },
     "execution_count": 22,
     "metadata": {},
     "output_type": "execute_result"
    }
   ],
   "source": [
    "train_df.head(2)"
   ]
  },
  {
   "cell_type": "code",
   "execution_count": 23,
   "metadata": {},
   "outputs": [
    {
     "data": {
      "text/html": [
       "<div>\n",
       "<style scoped>\n",
       "    .dataframe tbody tr th:only-of-type {\n",
       "        vertical-align: middle;\n",
       "    }\n",
       "\n",
       "    .dataframe tbody tr th {\n",
       "        vertical-align: top;\n",
       "    }\n",
       "\n",
       "    .dataframe thead th {\n",
       "        text-align: right;\n",
       "    }\n",
       "</style>\n",
       "<table border=\"1\" class=\"dataframe\">\n",
       "  <thead>\n",
       "    <tr style=\"text-align: right;\">\n",
       "      <th></th>\n",
       "      <th>video_fname</th>\n",
       "      <th>frame_fnames</th>\n",
       "      <th>label</th>\n",
       "    </tr>\n",
       "  </thead>\n",
       "  <tbody>\n",
       "    <tr>\n",
       "      <th>0</th>\n",
       "      <td>bnfhgczmrn</td>\n",
       "      <td>[/home/ubuntu/data/dfdc/dfdc_cropped_faces/dfd...</td>\n",
       "      <td>1</td>\n",
       "    </tr>\n",
       "    <tr>\n",
       "      <th>1</th>\n",
       "      <td>ojxeusdtmm</td>\n",
       "      <td>[/home/ubuntu/data/dfdc/dfdc_cropped_faces/dfd...</td>\n",
       "      <td>1</td>\n",
       "    </tr>\n",
       "  </tbody>\n",
       "</table>\n",
       "</div>"
      ],
      "text/plain": [
       "  video_fname                                       frame_fnames  label\n",
       "0  bnfhgczmrn  [/home/ubuntu/data/dfdc/dfdc_cropped_faces/dfd...      1\n",
       "1  ojxeusdtmm  [/home/ubuntu/data/dfdc/dfdc_cropped_faces/dfd...      1"
      ]
     },
     "execution_count": 23,
     "metadata": {},
     "output_type": "execute_result"
    }
   ],
   "source": [
    "valid_df.head(2)"
   ]
  },
  {
   "cell_type": "code",
   "execution_count": 25,
   "metadata": {},
   "outputs": [],
   "source": [
    "flat_train_df = flatten_df(train_df)"
   ]
  },
  {
   "cell_type": "markdown",
   "metadata": {},
   "source": [
    "### export"
   ]
  },
  {
   "cell_type": "code",
   "execution_count": 26,
   "metadata": {},
   "outputs": [],
   "source": [
    "from nbdev.export import notebook2script"
   ]
  },
  {
   "cell_type": "code",
   "execution_count": 27,
   "metadata": {
    "scrolled": true
   },
   "outputs": [
    {
     "name": "stdout",
     "output_type": "stream",
     "text": [
      "Converted 001 - extract_faces.ipynb.\n",
      "Converted 002 - face_detection_retinaface.ipynb.\n",
      "Converted 003 - save_face_crops.ipynb.\n",
      "Converted 004 - tl_baseline.ipynb.\n",
      "Converted 00_core.ipynb.\n",
      "Converted 01_video_core.ipynb.\n",
      "Converted 10_bbox_utils.ipynb.\n",
      "Converted 11_retinaface_detection.ipynb.\n",
      "Converted 12_generate_face_detections.ipynb.\n",
      "Converted 13_save_cropped_faces.ipynb.\n",
      "Converted 20_datasets.ipynb.\n",
      "Converted 21_single_frame_model.ipynb.\n",
      "Converted index.ipynb.\n"
     ]
    }
   ],
   "source": [
    "notebook2script()"
   ]
  },
  {
   "cell_type": "code",
   "execution_count": null,
   "metadata": {},
   "outputs": [],
   "source": []
  }
 ],
 "metadata": {
  "kernelspec": {
   "display_name": "Python [conda env:deepfake]",
   "language": "python",
   "name": "conda-env-deepfake-py"
  },
  "language_info": {
   "codemirror_mode": {
    "name": "ipython",
    "version": 3
   },
   "file_extension": ".py",
   "mimetype": "text/x-python",
   "name": "python",
   "nbconvert_exporter": "python",
   "pygments_lexer": "ipython3",
   "version": "3.7.6"
  }
 },
 "nbformat": 4,
 "nbformat_minor": 4
}
